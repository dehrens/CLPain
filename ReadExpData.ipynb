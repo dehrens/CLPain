{
 "cells": [
  {
   "cell_type": "markdown",
   "id": "60337e8a",
   "metadata": {
    "slideshow": {
     "slide_type": "slide"
    }
   },
   "source": [
    "# Read Experimental Data\n",
    " This `notebook` goes over how to read the recorded experimental data with __*synapse*__.\n",
    " We will go over every step\n",
    " 1. Select and load the experiment data\n",
    " 2. Conversion into matrix format for plotting and analysis\n",
    " 3. Obtain <font color = green>FFT</font> \n",
    " 4. Plot!\n",
    "\n",
    "### alright let's do _this_!\n",
    "<br>\n",
    "***\n",
    "First lets import the libraries that we will be using:"
   ]
  },
  {
   "cell_type": "code",
   "execution_count": 2,
   "id": "8f11e914",
   "metadata": {
    "slideshow": {
     "slide_type": "subslide"
    }
   },
   "outputs": [],
   "source": [
    "import tdt # These are the functions for tdt\n",
    "import pandas as pd \n",
    "import numpy as np\n",
    "import scipy.signal\n",
    "import matplotlib.pyplot as plt # this is used for plotting"
   ]
  },
  {
   "cell_type": "markdown",
   "id": "3ce4ed5c",
   "metadata": {},
   "source": [
    "We ask for the directory where the experiment is!"
   ]
  },
  {
   "cell_type": "code",
<<<<<<< HEAD
   "execution_count": 6,
=======
   "execution_count": 3,
>>>>>>> e6eb7c95755a21089de7a2460df2e13cb220aab2
   "id": "ef7270ec",
   "metadata": {
    "scrolled": true
   },
   "outputs": [
    {
     "name": "stdout",
     "output_type": "stream",
     "text": [
<<<<<<< HEAD
      "A:/ExpData_Tank/VPL_RecStim_Coordinates-220606-153952/sub_1-220606-164504\n"
=======
      "A:/ExpData_Tank/Rec_StimJHU-220516-173515/sub-IrinaTest-220523-154345\n"
>>>>>>> e6eb7c95755a21089de7a2460df2e13cb220aab2
     ]
    }
   ],
   "source": [
    "from tkinter import Tk, filedialog\n",
    "root = Tk() # pointing root to Tk() to use it as Tk() in program.\n",
    "root.withdraw() # Hides small tkinter window.\n",
    "root.attributes('-topmost', True) # Opened windows will be active. above all windows despite of selection.\n",
    "exp_path = filedialog.askdirectory(parent=root, initialdir='A:/ExpData_Tank/',title= 'Hello! Please select the experiment to load!') # Returns opened path as str\n",
    "print(exp_path)\n"
   ]
  },
  {
   "cell_type": "markdown",
   "id": "36a05607",
   "metadata": {},
   "source": [
    "### Import the synapse data!\n",
    "Now we know the path to the directory where the data is so we load it using the __*`tdt`*__ functions"
   ]
  },
  {
   "cell_type": "code",
<<<<<<< HEAD
   "execution_count": 7,
=======
   "execution_count": 4,
>>>>>>> e6eb7c95755a21089de7a2460df2e13cb220aab2
   "id": "5a2d1320",
   "metadata": {
    "scrolled": true
   },
   "outputs": [
    {
     "name": "stdout",
     "output_type": "stream",
     "text": [
<<<<<<< HEAD
      "read from t=0s to t=60.5s\n"
=======
      "read from t=0s to t=31.31s\n"
>>>>>>> e6eb7c95755a21089de7a2460df2e13cb220aab2
     ]
    }
   ],
   "source": [
    "data = tdt.read_block(exp_path)"
   ]
  },
  {
   "cell_type": "code",
   "execution_count": 5,
   "id": "047ab0fa",
   "metadata": {},
   "outputs": [
    {
     "data": {
      "text/plain": [
       "name:\t'eS1r'\n",
       "code:\t1915835237\n",
       "size:\t1034\n",
       "type:\t33025\n",
       "type_str:\t'streams'\n",
       "ucf:\tFalse\n",
       "fs:\t12207.03125\n",
       "dform:\t2\n",
       "start_time:\t0.0\n",
       "data:\tarray([[  0,   0,   0, ...,   0,   0,   0],\n",
       "       [512, 512, 512, ..., 513, 513, 513],\n",
       "       [  0,   0,   0, ...,   0,   0,   0],\n",
       "       [512, 512, 512, ..., 512, 512, 512]], dtype=int16)\n",
       "channel:\t[1, 2, 3, 4]"
      ]
     },
     "execution_count": 5,
     "metadata": {},
     "output_type": "execute_result"
    }
   ],
   "source": [
    "data.streams.eS1r"
   ]
  },
  {
   "cell_type": "code",
   "execution_count": null,
   "id": "16892040",
   "metadata": {},
   "outputs": [],
   "source": []
  },
  {
   "cell_type": "markdown",
   "id": "7c3deaf7",
   "metadata": {},
   "source": [
    "### Plot the stimulation streams as they are"
   ]
  },
  {
   "cell_type": "code",
<<<<<<< HEAD
   "execution_count": 8,
=======
   "execution_count": 6,
>>>>>>> e6eb7c95755a21089de7a2460df2e13cb220aab2
   "id": "0933a08f",
   "metadata": {},
   "outputs": [
    {
     "data": {
      "text/plain": [
       "<function matplotlib.pyplot.show(close=None, block=None)>"
      ]
     },
<<<<<<< HEAD
     "execution_count": 8,
=======
     "execution_count": 6,
>>>>>>> e6eb7c95755a21089de7a2460df2e13cb220aab2
     "metadata": {},
     "output_type": "execute_result"
    },
    {
     "data": {
<<<<<<< HEAD
      "image/png": "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\n",
=======
      "image/png": "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",
>>>>>>> e6eb7c95755a21089de7a2460df2e13cb220aab2
      "text/plain": [
       "<Figure size 432x288 with 1 Axes>"
      ]
     },
     "metadata": {
      "needs_background": "light"
     },
     "output_type": "display_data"
    }
   ],
   "source": [
    "plt.figure(0)\n",
    "plt.plot(data.streams.eS1r.data[0,:])\n",
    "plt.show"
   ]
  },
  {
   "cell_type": "code",
   "execution_count": null,
   "id": "a629fc9b",
   "metadata": {},
   "outputs": [],
   "source": []
  },
  {
   "cell_type": "markdown",
   "id": "7014136f",
   "metadata": {},
   "source": [
    "### Plotting all recording after stim"
   ]
  },
  {
   "cell_type": "code",
   "execution_count": 7,
   "id": "d57f2e14",
   "metadata": {},
   "outputs": [
    {
<<<<<<< HEAD
     "ename": "NameError",
     "evalue": "name 'peak_locs' is not defined",
     "output_type": "error",
     "traceback": [
      "\u001b[1;31m---------------------------------------------------------------------------\u001b[0m",
      "\u001b[1;31mNameError\u001b[0m                                 Traceback (most recent call last)",
      "\u001b[1;32m~\\AppData\\Local\\Temp/ipykernel_18252/1056856849.py\u001b[0m in \u001b[0;36m<module>\u001b[1;34m\u001b[0m\n\u001b[0;32m      1\u001b[0m \u001b[0mplt\u001b[0m\u001b[1;33m.\u001b[0m\u001b[0mfigure\u001b[0m\u001b[1;33m(\u001b[0m\u001b[1;36m1\u001b[0m\u001b[1;33m)\u001b[0m\u001b[1;33m\u001b[0m\u001b[1;33m\u001b[0m\u001b[0m\n\u001b[1;32m----> 2\u001b[1;33m \u001b[1;32mfor\u001b[0m \u001b[0mpulse\u001b[0m \u001b[1;32min\u001b[0m \u001b[0mrange\u001b[0m\u001b[1;33m(\u001b[0m\u001b[1;36m0\u001b[0m\u001b[1;33m,\u001b[0m\u001b[0mnp\u001b[0m\u001b[1;33m.\u001b[0m\u001b[0msize\u001b[0m\u001b[1;33m(\u001b[0m\u001b[0mpeak_locs\u001b[0m\u001b[1;33m)\u001b[0m\u001b[1;33m)\u001b[0m\u001b[1;33m:\u001b[0m\u001b[1;33m\u001b[0m\u001b[1;33m\u001b[0m\u001b[0m\n\u001b[0m\u001b[0;32m      3\u001b[0m     \u001b[0mstart_idx\u001b[0m \u001b[1;33m=\u001b[0m \u001b[0mint\u001b[0m\u001b[1;33m(\u001b[0m\u001b[0mlfp_locs\u001b[0m\u001b[1;33m[\u001b[0m\u001b[0mpulse\u001b[0m\u001b[1;33m]\u001b[0m\u001b[1;33m-\u001b[0m\u001b[1;36m305\u001b[0m\u001b[1;33m)\u001b[0m\u001b[1;33m\u001b[0m\u001b[1;33m\u001b[0m\u001b[0m\n\u001b[0;32m      4\u001b[0m     \u001b[0mend_idx\u001b[0m \u001b[1;33m=\u001b[0m \u001b[0mint\u001b[0m\u001b[1;33m(\u001b[0m\u001b[0mlfp_locs\u001b[0m\u001b[1;33m[\u001b[0m\u001b[0mpulse\u001b[0m\u001b[1;33m]\u001b[0m\u001b[1;33m+\u001b[0m\u001b[1;36m3052\u001b[0m\u001b[1;33m)\u001b[0m\u001b[1;33m\u001b[0m\u001b[1;33m\u001b[0m\u001b[0m\n\u001b[0;32m      5\u001b[0m     \u001b[0mstacked_responses\u001b[0m\u001b[1;33m[\u001b[0m\u001b[1;33m:\u001b[0m\u001b[1;33m,\u001b[0m\u001b[1;33m:\u001b[0m\u001b[1;33m,\u001b[0m\u001b[0mpulse\u001b[0m\u001b[1;33m]\u001b[0m \u001b[1;33m=\u001b[0m \u001b[0mlfp_data\u001b[0m\u001b[1;33m[\u001b[0m\u001b[1;33m:\u001b[0m\u001b[1;33m,\u001b[0m\u001b[0mstart_idx\u001b[0m\u001b[1;33m:\u001b[0m\u001b[0mend_idx\u001b[0m\u001b[1;33m]\u001b[0m\u001b[1;33m\u001b[0m\u001b[1;33m\u001b[0m\u001b[0m\n",
      "\u001b[1;31mNameError\u001b[0m: name 'peak_locs' is not defined"
     ]
    },
    {
     "data": {
=======
     "data": {
      "image/png": "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",
>>>>>>> e6eb7c95755a21089de7a2460df2e13cb220aab2
      "text/plain": [
       "<Figure size 432x288 with 0 Axes>"
      ]
     },
     "metadata": {},
     "output_type": "display_data"
    }
   ],
   "source": [
    "\n",
    "fs_lfp = data.streams.TET1.fs\n",
    "fs_stim = data.streams.eS1r.fs\n",
    "peaks = scipy.signal.find_peaks(data.streams.eS1r.data[0,:],height=100,distance=8)\n",
    "peak_locs = peaks[0]\n",
    "lfp_locs = peak_locs*fs_lfp//fs_stim\n",
    "time_vect = np.arange(305+3052)/fs_lfp - .1\n",
    "stacked_responses = np.empty((4,305+3052,np.size(peak_locs)))\n",
    "lfp_data = data.streams.TET1.data\n",
    "\n",
    "f, t, Sxx = scipy.signal.spectrogram(lfp_data[1,:],fs_lfp,window=('hamming'),nperseg=600,noverlap=200)\n",
    "Sxx_altered = 10e15*Sxx\n",
    "plt.figure(1)\n",
    "plt.pcolormesh(t[0:100],f[0:30],Sxx_altered[0:30,0:100],vmin=30,vmax=6000000)\n",
    "plt.xlabel('Time [s]')\n",
    "plt.ylabel('Frequency [Hz]')\n",
    "plt.show()"
   ]
  },
  {
   "cell_type": "markdown",
   "id": "c9a69601",
   "metadata": {},
   "source": [
    "### Average Response to stimulation"
   ]
  },
  {
   "cell_type": "code",
   "execution_count": 8,
   "id": "5ead721f",
   "metadata": {},
   "outputs": [
    {
     "ename": "NameError",
     "evalue": "name 'stacked_responses' is not defined",
     "output_type": "error",
     "traceback": [
      "\u001b[1;31m---------------------------------------------------------------------------\u001b[0m",
      "\u001b[1;31mNameError\u001b[0m                                 Traceback (most recent call last)",
      "\u001b[1;32m~\\AppData\\Local\\Temp/ipykernel_18252/2976912944.py\u001b[0m in \u001b[0;36m<module>\u001b[1;34m\u001b[0m\n\u001b[0;32m      1\u001b[0m \u001b[0mplt\u001b[0m\u001b[1;33m.\u001b[0m\u001b[0mfigure\u001b[0m\u001b[1;33m(\u001b[0m\u001b[1;36m2\u001b[0m\u001b[1;33m)\u001b[0m\u001b[1;33m\u001b[0m\u001b[1;33m\u001b[0m\u001b[0m\n\u001b[1;32m----> 2\u001b[1;33m \u001b[0mavg_response\u001b[0m \u001b[1;33m=\u001b[0m \u001b[0mnp\u001b[0m\u001b[1;33m.\u001b[0m\u001b[0mmean\u001b[0m\u001b[1;33m(\u001b[0m\u001b[0mstacked_responses\u001b[0m\u001b[1;33m,\u001b[0m\u001b[0maxis\u001b[0m\u001b[1;33m=\u001b[0m\u001b[1;36m2\u001b[0m\u001b[1;33m)\u001b[0m\u001b[1;33m\u001b[0m\u001b[1;33m\u001b[0m\u001b[0m\n\u001b[0m\u001b[0;32m      3\u001b[0m \u001b[0mstd_dev_response\u001b[0m \u001b[1;33m=\u001b[0m \u001b[0mnp\u001b[0m\u001b[1;33m.\u001b[0m\u001b[0mstd\u001b[0m\u001b[1;33m(\u001b[0m\u001b[0mstacked_responses\u001b[0m\u001b[1;33m,\u001b[0m\u001b[0maxis\u001b[0m\u001b[1;33m=\u001b[0m\u001b[1;36m2\u001b[0m\u001b[1;33m)\u001b[0m\u001b[1;33m\u001b[0m\u001b[1;33m\u001b[0m\u001b[0m\n\u001b[0;32m      4\u001b[0m \u001b[0mplt\u001b[0m\u001b[1;33m.\u001b[0m\u001b[0mplot\u001b[0m\u001b[1;33m(\u001b[0m\u001b[0mtime_vect\u001b[0m\u001b[1;33m,\u001b[0m\u001b[0mavg_response\u001b[0m\u001b[1;33m[\u001b[0m\u001b[1;36m0\u001b[0m\u001b[1;33m,\u001b[0m\u001b[1;33m:\u001b[0m\u001b[1;33m]\u001b[0m\u001b[1;33m,\u001b[0m\u001b[0mcolor\u001b[0m\u001b[1;33m=\u001b[0m\u001b[1;34m'b'\u001b[0m\u001b[1;33m)\u001b[0m\u001b[1;33m\u001b[0m\u001b[1;33m\u001b[0m\u001b[0m\n\u001b[0;32m      5\u001b[0m \u001b[1;31m#plt.plot(time_vect,avg_response[0,:]+std_dev_response[0,:],linestyle=':',color='b')\u001b[0m\u001b[1;33m\u001b[0m\u001b[1;33m\u001b[0m\u001b[0m\n",
      "\u001b[1;31mNameError\u001b[0m: name 'stacked_responses' is not defined"
     ]
    },
    {
     "data": {
<<<<<<< HEAD
=======
      "text/plain": [
       "<function matplotlib.pyplot.show(close=None, block=None)>"
      ]
     },
     "execution_count": 8,
     "metadata": {},
     "output_type": "execute_result"
    },
    {
     "data": {
      "image/png": "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",
>>>>>>> e6eb7c95755a21089de7a2460df2e13cb220aab2
      "text/plain": [
       "<Figure size 432x288 with 0 Axes>"
      ]
     },
     "metadata": {},
     "output_type": "display_data"
    }
   ],
   "source": [
    "plt.figure(2)\n",
    "for pulse in range(0,np.size(peak_locs)):\n",
    "    start_idx = int(lfp_locs[pulse]-305)\n",
    "    end_idx = int(lfp_locs[pulse]+3052)\n",
    "    stacked_responses[:,:,pulse] = lfp_data[:,start_idx:end_idx]\n",
    "    plt.plot(time_vect,stacked_responses[0,:,pulse]+.0003*pulse)\n",
    "\n",
    "plt.show\n"
   ]
  },
  {
   "cell_type": "markdown",
   "id": "b75fad30",
   "metadata": {},
   "source": [
    "### Doing preliminary spectral analysis\n",
    "Things to do still:\n",
    "- normalize\n",
    "- Check fft parameters. If possible do it with wavelets.\n"
   ]
  },
  {
   "cell_type": "code",
   "execution_count": 8,
   "id": "1284edc4",
   "metadata": {},
   "outputs": [
    {
     "data": {
      "image/png": "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",
      "text/plain": [
       "<Figure size 432x288 with 1 Axes>"
      ]
     },
     "metadata": {
      "needs_background": "light"
     },
     "output_type": "display_data"
    }
   ],
   "source": [
    "fs_lfp = data.streams.TET1.fs\n",
    "fs_stim = data.streams.eS1r.fs\n",
    "peaks = scipy.signal.find_peaks(data.streams.eS1r.data[0,:],height=100,distance=8)\n",
    "peak_locs = peaks[0]\n",
    "lfp_locs = peak_locs*fs_lfp//fs_stim\n",
    "time_vect = np.arange(305+3052)/fs_lfp - .1\n",
    "stacked_responses = np.empty((4,305+3052,np.size(peak_locs)))\n",
    "lfp_data = data.streams.TET1.data\n",
    "\n",
    "f, t, Sxx = scipy.signal.spectrogram(lfp_data[1,:],fs_lfp,window=('hamming'),nperseg=600,noverlap=200)\n",
    "Sxx_altered = 10e15*Sxx\n",
    "plt.figure(3)\n",
    "plt.pcolormesh(t[0:100],f[0:30],Sxx_altered[0:30,0:100],vmin=30,vmax=6000000,shading ='auto')\n",
    "plt.xlabel('Time [s]')\n",
    "plt.ylabel('Frequency [Hz]')\n",
    "plt.show()"
   ]
  },
  {
   "cell_type": "code",
   "execution_count": 9,
<<<<<<< HEAD
=======
   "id": "a7712af9",
   "metadata": {},
   "outputs": [
    {
     "data": {
      "image/png": "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",
      "text/plain": [
       "<Figure size 432x288 with 1 Axes>"
      ]
     },
     "metadata": {
      "needs_background": "light"
     },
     "output_type": "display_data"
    }
   ],
   "source": [
    "plt.figure(4)\n",
    "avg_response = np.mean(stacked_responses,axis=2)\n",
    "std_dev_response = np.std(stacked_responses,axis=2)\n",
    "plt.plot(time_vect,avg_response[0,:],color='b')\n",
    "#plt.plot(time_vect,avg_response[0,:]+std_dev_response[0,:],linestyle=':',color='b')\n",
    "#plt.plot(time_vect,avg_response[0,:]-std_dev_response[0,:],linestyle=':',color='b')\n",
    "plt.ylim(-0.0004,0.0004)\n",
    "plt.show()\n"
   ]
  },
  {
   "cell_type": "markdown",
   "id": "5fd17dd4",
   "metadata": {},
   "source": [
    "### This is just to plot the LFP "
   ]
  },
  {
   "cell_type": "code",
   "execution_count": null,
   "id": "bee3a44b",
   "metadata": {},
   "outputs": [],
   "source": [
    "plt.figure(5)\n",
    "plt.plot(data.streams.TET1.data[0,:])\n",
    "plt.show"
   ]
  },
  {
   "cell_type": "code",
   "execution_count": 11,
   "id": "9ede441f",
   "metadata": {},
   "outputs": [
    {
     "data": {
      "text/plain": [
       "TET1\t[struct]\n",
       "Wav1\t[struct]\n",
       "MonA\t[struct]\n",
       "eS1r\t[struct]"
      ]
     },
     "execution_count": 11,
     "metadata": {},
     "output_type": "execute_result"
    }
   ],
   "source": [
    "data.streams"
   ]
  },
  {
   "cell_type": "code",
   "execution_count": 1,
>>>>>>> e6eb7c95755a21089de7a2460df2e13cb220aab2
   "id": "39816171",
   "metadata": {},
   "outputs": [
    {
     "name": "stdout",
     "output_type": "stream",
     "text": [
      "Requirement already satisfied: jupyterthemes in c:\\users\\dehrens1\\anaconda3\\lib\\site-packages (0.20.0)\n",
      "Requirement already satisfied: ipython>=5.4.1 in c:\\users\\dehrens1\\anaconda3\\lib\\site-packages (from jupyterthemes) (7.29.0)\n",
      "Requirement already satisfied: matplotlib>=1.4.3 in c:\\users\\dehrens1\\anaconda3\\lib\\site-packages (from jupyterthemes) (3.4.3)\n",
      "Requirement already satisfied: notebook>=5.6.0 in c:\\users\\dehrens1\\anaconda3\\lib\\site-packages (from jupyterthemes) (6.4.5)\n",
      "Requirement already satisfied: jupyter-core in c:\\users\\dehrens1\\anaconda3\\lib\\site-packages (from jupyterthemes) (4.8.1)\n",
      "Requirement already satisfied: lesscpy>=0.11.2 in c:\\users\\dehrens1\\anaconda3\\lib\\site-packages (from jupyterthemes) (0.15.0)\n",
      "Requirement already satisfied: backcall in c:\\users\\dehrens1\\anaconda3\\lib\\site-packages (from ipython>=5.4.1->jupyterthemes) (0.2.0)\n",
      "Requirement already satisfied: colorama in c:\\users\\dehrens1\\anaconda3\\lib\\site-packages (from ipython>=5.4.1->jupyterthemes) (0.4.4)\n",
      "Requirement already satisfied: pygments in c:\\users\\dehrens1\\anaconda3\\lib\\site-packages (from ipython>=5.4.1->jupyterthemes) (2.10.0)\n",
      "Requirement already satisfied: pickleshare in c:\\users\\dehrens1\\anaconda3\\lib\\site-packages (from ipython>=5.4.1->jupyterthemes) (0.7.5)\n",
      "Requirement already satisfied: prompt-toolkit!=3.0.0,!=3.0.1,<3.1.0,>=2.0.0 in c:\\users\\dehrens1\\anaconda3\\lib\\site-packages (from ipython>=5.4.1->jupyterthemes) (3.0.20)\n",
      "Requirement already satisfied: decorator in c:\\users\\dehrens1\\anaconda3\\lib\\site-packages (from ipython>=5.4.1->jupyterthemes) (5.1.0)\n",
      "Requirement already satisfied: traitlets>=4.2 in c:\\users\\dehrens1\\anaconda3\\lib\\site-packages (from ipython>=5.4.1->jupyterthemes) (5.1.0)\n",
      "Requirement already satisfied: matplotlib-inline in c:\\users\\dehrens1\\anaconda3\\lib\\site-packages (from ipython>=5.4.1->jupyterthemes) (0.1.2)\n",
      "Requirement already satisfied: jedi>=0.16 in c:\\users\\dehrens1\\anaconda3\\lib\\site-packages (from ipython>=5.4.1->jupyterthemes) (0.18.0)\n",
      "Requirement already satisfied: setuptools>=18.5 in c:\\users\\dehrens1\\anaconda3\\lib\\site-packages (from ipython>=5.4.1->jupyterthemes) (58.0.4)\n",
      "Requirement already satisfied: parso<0.9.0,>=0.8.0 in c:\\users\\dehrens1\\anaconda3\\lib\\site-packages (from jedi>=0.16->ipython>=5.4.1->jupyterthemes) (0.8.2)\n",
      "Requirement already satisfied: six in c:\\users\\dehrens1\\anaconda3\\lib\\site-packages (from lesscpy>=0.11.2->jupyterthemes) (1.16.0)\n",
      "Requirement already satisfied: ply in c:\\users\\dehrens1\\anaconda3\\lib\\site-packages (from lesscpy>=0.11.2->jupyterthemes) (3.11)\n",
      "Requirement already satisfied: kiwisolver>=1.0.1 in c:\\users\\dehrens1\\anaconda3\\lib\\site-packages (from matplotlib>=1.4.3->jupyterthemes) (1.3.1)\n",
      "Requirement already satisfied: pyparsing>=2.2.1 in c:\\users\\dehrens1\\anaconda3\\lib\\site-packages (from matplotlib>=1.4.3->jupyterthemes) (3.0.4)\n",
      "Requirement already satisfied: numpy>=1.16 in c:\\users\\dehrens1\\anaconda3\\lib\\site-packages (from matplotlib>=1.4.3->jupyterthemes) (1.20.3)\n",
      "Requirement already satisfied: pillow>=6.2.0 in c:\\users\\dehrens1\\anaconda3\\lib\\site-packages (from matplotlib>=1.4.3->jupyterthemes) (8.4.0)\n",
      "Requirement already satisfied: python-dateutil>=2.7 in c:\\users\\dehrens1\\anaconda3\\lib\\site-packages (from matplotlib>=1.4.3->jupyterthemes) (2.8.2)\n",
      "Requirement already satisfied: cycler>=0.10 in c:\\users\\dehrens1\\anaconda3\\lib\\site-packages (from matplotlib>=1.4.3->jupyterthemes) (0.10.0)\n",
      "Requirement already satisfied: ipython-genutils in c:\\users\\dehrens1\\anaconda3\\lib\\site-packages (from notebook>=5.6.0->jupyterthemes) (0.2.0)\n",
      "Requirement already satisfied: jinja2 in c:\\users\\dehrens1\\anaconda3\\lib\\site-packages (from notebook>=5.6.0->jupyterthemes) (2.11.3)\n",
      "Requirement already satisfied: argon2-cffi in c:\\users\\dehrens1\\anaconda3\\lib\\site-packages (from notebook>=5.6.0->jupyterthemes) (20.1.0)\n",
      "Requirement already satisfied: nbconvert in c:\\users\\dehrens1\\anaconda3\\lib\\site-packages (from notebook>=5.6.0->jupyterthemes) (6.1.0)\n",
      "Requirement already satisfied: ipykernel in c:\\users\\dehrens1\\anaconda3\\lib\\site-packages (from notebook>=5.6.0->jupyterthemes) (6.4.1)\n",
      "Requirement already satisfied: Send2Trash>=1.5.0 in c:\\users\\dehrens1\\anaconda3\\lib\\site-packages (from notebook>=5.6.0->jupyterthemes) (1.8.0)\n",
      "Requirement already satisfied: nbformat in c:\\users\\dehrens1\\anaconda3\\lib\\site-packages (from notebook>=5.6.0->jupyterthemes) (5.1.3)\n",
      "Requirement already satisfied: prometheus-client in c:\\users\\dehrens1\\anaconda3\\lib\\site-packages (from notebook>=5.6.0->jupyterthemes) (0.11.0)\n",
      "Requirement already satisfied: pyzmq>=17 in c:\\users\\dehrens1\\anaconda3\\lib\\site-packages (from notebook>=5.6.0->jupyterthemes) (22.2.1)\n",
      "Requirement already satisfied: jupyter-client>=5.3.4 in c:\\users\\dehrens1\\anaconda3\\lib\\site-packages (from notebook>=5.6.0->jupyterthemes) (6.1.12)\n",
      "Requirement already satisfied: terminado>=0.8.3 in c:\\users\\dehrens1\\anaconda3\\lib\\site-packages (from notebook>=5.6.0->jupyterthemes) (0.9.4)\n",
      "Requirement already satisfied: tornado>=6.1 in c:\\users\\dehrens1\\anaconda3\\lib\\site-packages (from notebook>=5.6.0->jupyterthemes) (6.1)\n",
      "Requirement already satisfied: pywin32>=1.0 in c:\\users\\dehrens1\\anaconda3\\lib\\site-packages (from jupyter-core->jupyterthemes) (228)\n",
      "Requirement already satisfied: wcwidth in c:\\users\\dehrens1\\anaconda3\\lib\\site-packages (from prompt-toolkit!=3.0.0,!=3.0.1,<3.1.0,>=2.0.0->ipython>=5.4.1->jupyterthemes) (0.2.5)\n",
      "Requirement already satisfied: pywinpty>=0.5 in c:\\users\\dehrens1\\anaconda3\\lib\\site-packages (from terminado>=0.8.3->notebook>=5.6.0->jupyterthemes) (0.5.7)\n",
      "Requirement already satisfied: cffi>=1.0.0 in c:\\users\\dehrens1\\anaconda3\\lib\\site-packages (from argon2-cffi->notebook>=5.6.0->jupyterthemes) (1.14.6)\n",
      "Requirement already satisfied: pycparser in c:\\users\\dehrens1\\anaconda3\\lib\\site-packages (from cffi>=1.0.0->argon2-cffi->notebook>=5.6.0->jupyterthemes) (2.20)\n",
      "Requirement already satisfied: debugpy<2.0,>=1.0.0 in c:\\users\\dehrens1\\anaconda3\\lib\\site-packages (from ipykernel->notebook>=5.6.0->jupyterthemes) (1.4.1)\n",
      "Requirement already satisfied: MarkupSafe>=0.23 in c:\\users\\dehrens1\\anaconda3\\lib\\site-packages (from jinja2->notebook>=5.6.0->jupyterthemes) (1.1.1)\n",
      "Requirement already satisfied: bleach in c:\\users\\dehrens1\\anaconda3\\lib\\site-packages (from nbconvert->notebook>=5.6.0->jupyterthemes) (4.0.0)\n",
      "Requirement already satisfied: defusedxml in c:\\users\\dehrens1\\anaconda3\\lib\\site-packages (from nbconvert->notebook>=5.6.0->jupyterthemes) (0.7.1)\n",
      "Requirement already satisfied: entrypoints>=0.2.2 in c:\\users\\dehrens1\\anaconda3\\lib\\site-packages (from nbconvert->notebook>=5.6.0->jupyterthemes) (0.3)\n",
      "Requirement already satisfied: mistune<2,>=0.8.1 in c:\\users\\dehrens1\\anaconda3\\lib\\site-packages (from nbconvert->notebook>=5.6.0->jupyterthemes) (0.8.4)\n",
      "Requirement already satisfied: pandocfilters>=1.4.1 in c:\\users\\dehrens1\\anaconda3\\lib\\site-packages (from nbconvert->notebook>=5.6.0->jupyterthemes) (1.4.3)\n",
      "Requirement already satisfied: testpath in c:\\users\\dehrens1\\anaconda3\\lib\\site-packages (from nbconvert->notebook>=5.6.0->jupyterthemes) (0.5.0)\n",
      "Requirement already satisfied: nbclient<0.6.0,>=0.5.0 in c:\\users\\dehrens1\\anaconda3\\lib\\site-packages (from nbconvert->notebook>=5.6.0->jupyterthemes) (0.5.3)\n",
      "Requirement already satisfied: jupyterlab-pygments in c:\\users\\dehrens1\\anaconda3\\lib\\site-packages (from nbconvert->notebook>=5.6.0->jupyterthemes) (0.1.2)\n",
      "Requirement already satisfied: nest-asyncio in c:\\users\\dehrens1\\anaconda3\\lib\\site-packages (from nbclient<0.6.0,>=0.5.0->nbconvert->notebook>=5.6.0->jupyterthemes) (1.5.1)\n",
      "Requirement already satisfied: async-generator in c:\\users\\dehrens1\\anaconda3\\lib\\site-packages (from nbclient<0.6.0,>=0.5.0->nbconvert->notebook>=5.6.0->jupyterthemes) (1.10)\n",
      "Requirement already satisfied: jsonschema!=2.5.0,>=2.4 in c:\\users\\dehrens1\\anaconda3\\lib\\site-packages (from nbformat->notebook>=5.6.0->jupyterthemes) (3.2.0)\n",
      "Requirement already satisfied: pyrsistent>=0.14.0 in c:\\users\\dehrens1\\anaconda3\\lib\\site-packages (from jsonschema!=2.5.0,>=2.4->nbformat->notebook>=5.6.0->jupyterthemes) (0.18.0)\n",
      "Requirement already satisfied: attrs>=17.4.0 in c:\\users\\dehrens1\\anaconda3\\lib\\site-packages (from jsonschema!=2.5.0,>=2.4->nbformat->notebook>=5.6.0->jupyterthemes) (21.2.0)\n",
      "Requirement already satisfied: packaging in c:\\users\\dehrens1\\anaconda3\\lib\\site-packages (from bleach->nbconvert->notebook>=5.6.0->jupyterthemes) (21.0)\n",
      "Requirement already satisfied: webencodings in c:\\users\\dehrens1\\anaconda3\\lib\\site-packages (from bleach->nbconvert->notebook>=5.6.0->jupyterthemes) (0.5.1)\n"
     ]
    }
   ],
   "source": [
    "!pip install jupyterthemes"
   ]
  },
  {
   "cell_type": "code",
   "execution_count": 10,
   "id": "78f0368c",
   "metadata": {},
   "outputs": [
    {
     "name": "stdout",
     "output_type": "stream",
     "text": [
      "Requirement already satisfied: jupyterthemes in c:\\users\\dehrens1\\anaconda3\\lib\\site-packages (0.20.0)\n",
      "Requirement already satisfied: matplotlib>=1.4.3 in c:\\users\\dehrens1\\anaconda3\\lib\\site-packages (from jupyterthemes) (3.4.3)\n",
      "Requirement already satisfied: lesscpy>=0.11.2 in c:\\users\\dehrens1\\anaconda3\\lib\\site-packages (from jupyterthemes) (0.15.0)\n",
      "Requirement already satisfied: ipython>=5.4.1 in c:\\users\\dehrens1\\anaconda3\\lib\\site-packages (from jupyterthemes) (7.29.0)\n",
      "Requirement already satisfied: notebook>=5.6.0 in c:\\users\\dehrens1\\anaconda3\\lib\\site-packages (from jupyterthemes) (6.4.5)\n",
      "Requirement already satisfied: jupyter-core in c:\\users\\dehrens1\\anaconda3\\lib\\site-packages (from jupyterthemes) (4.8.1)\n",
      "Requirement already satisfied: matplotlib-inline in c:\\users\\dehrens1\\anaconda3\\lib\\site-packages (from ipython>=5.4.1->jupyterthemes) (0.1.2)\n",
      "Requirement already satisfied: traitlets>=4.2 in c:\\users\\dehrens1\\anaconda3\\lib\\site-packages (from ipython>=5.4.1->jupyterthemes) (5.1.0)\n",
      "Requirement already satisfied: pygments in c:\\users\\dehrens1\\anaconda3\\lib\\site-packages (from ipython>=5.4.1->jupyterthemes) (2.10.0)\n",
      "Requirement already satisfied: setuptools>=18.5 in c:\\users\\dehrens1\\anaconda3\\lib\\site-packages (from ipython>=5.4.1->jupyterthemes) (58.0.4)\n",
      "Requirement already satisfied: backcall in c:\\users\\dehrens1\\anaconda3\\lib\\site-packages (from ipython>=5.4.1->jupyterthemes) (0.2.0)\n",
      "Requirement already satisfied: decorator in c:\\users\\dehrens1\\anaconda3\\lib\\site-packages (from ipython>=5.4.1->jupyterthemes) (5.1.0)\n",
      "Requirement already satisfied: jedi>=0.16 in c:\\users\\dehrens1\\anaconda3\\lib\\site-packages (from ipython>=5.4.1->jupyterthemes) (0.18.0)\n",
      "Requirement already satisfied: pickleshare in c:\\users\\dehrens1\\anaconda3\\lib\\site-packages (from ipython>=5.4.1->jupyterthemes) (0.7.5)\n",
      "Requirement already satisfied: colorama in c:\\users\\dehrens1\\anaconda3\\lib\\site-packages (from ipython>=5.4.1->jupyterthemes) (0.4.4)\n",
      "Requirement already satisfied: prompt-toolkit!=3.0.0,!=3.0.1,<3.1.0,>=2.0.0 in c:\\users\\dehrens1\\anaconda3\\lib\\site-packages (from ipython>=5.4.1->jupyterthemes) (3.0.20)\n",
      "Requirement already satisfied: parso<0.9.0,>=0.8.0 in c:\\users\\dehrens1\\anaconda3\\lib\\site-packages (from jedi>=0.16->ipython>=5.4.1->jupyterthemes) (0.8.2)\n",
      "Requirement already satisfied: six in c:\\users\\dehrens1\\anaconda3\\lib\\site-packages (from lesscpy>=0.11.2->jupyterthemes) (1.16.0)\n",
      "Requirement already satisfied: ply in c:\\users\\dehrens1\\anaconda3\\lib\\site-packages (from lesscpy>=0.11.2->jupyterthemes) (3.11)\n",
      "Requirement already satisfied: numpy>=1.16 in c:\\users\\dehrens1\\anaconda3\\lib\\site-packages (from matplotlib>=1.4.3->jupyterthemes) (1.20.3)\n",
      "Requirement already satisfied: pillow>=6.2.0 in c:\\users\\dehrens1\\anaconda3\\lib\\site-packages (from matplotlib>=1.4.3->jupyterthemes) (8.4.0)\n",
      "Requirement already satisfied: cycler>=0.10 in c:\\users\\dehrens1\\anaconda3\\lib\\site-packages (from matplotlib>=1.4.3->jupyterthemes) (0.10.0)\n",
      "Requirement already satisfied: python-dateutil>=2.7 in c:\\users\\dehrens1\\anaconda3\\lib\\site-packages (from matplotlib>=1.4.3->jupyterthemes) (2.8.2)\n",
      "Requirement already satisfied: pyparsing>=2.2.1 in c:\\users\\dehrens1\\anaconda3\\lib\\site-packages (from matplotlib>=1.4.3->jupyterthemes) (3.0.4)\n",
      "Requirement already satisfied: kiwisolver>=1.0.1 in c:\\users\\dehrens1\\anaconda3\\lib\\site-packages (from matplotlib>=1.4.3->jupyterthemes) (1.3.1)\n",
      "Requirement already satisfied: jupyter-client>=5.3.4 in c:\\users\\dehrens1\\anaconda3\\lib\\site-packages (from notebook>=5.6.0->jupyterthemes) (6.1.12)\n",
      "Requirement already satisfied: ipykernel in c:\\users\\dehrens1\\anaconda3\\lib\\site-packages (from notebook>=5.6.0->jupyterthemes) (6.4.1)\n",
      "Requirement already satisfied: nbconvert in c:\\users\\dehrens1\\anaconda3\\lib\\site-packages (from notebook>=5.6.0->jupyterthemes) (6.1.0)\n",
      "Requirement already satisfied: terminado>=0.8.3 in c:\\users\\dehrens1\\anaconda3\\lib\\site-packages (from notebook>=5.6.0->jupyterthemes) (0.9.4)\n",
      "Requirement already satisfied: pyzmq>=17 in c:\\users\\dehrens1\\anaconda3\\lib\\site-packages (from notebook>=5.6.0->jupyterthemes) (22.2.1)\n",
      "Requirement already satisfied: jinja2 in c:\\users\\dehrens1\\anaconda3\\lib\\site-packages (from notebook>=5.6.0->jupyterthemes) (2.11.3)\n",
      "Requirement already satisfied: nbformat in c:\\users\\dehrens1\\anaconda3\\lib\\site-packages (from notebook>=5.6.0->jupyterthemes) (5.1.3)\n",
      "Requirement already satisfied: argon2-cffi in c:\\users\\dehrens1\\anaconda3\\lib\\site-packages (from notebook>=5.6.0->jupyterthemes) (20.1.0)\n",
      "Requirement already satisfied: ipython-genutils in c:\\users\\dehrens1\\anaconda3\\lib\\site-packages (from notebook>=5.6.0->jupyterthemes) (0.2.0)\n",
      "Requirement already satisfied: prometheus-client in c:\\users\\dehrens1\\anaconda3\\lib\\site-packages (from notebook>=5.6.0->jupyterthemes) (0.11.0)\n",
      "Requirement already satisfied: Send2Trash>=1.5.0 in c:\\users\\dehrens1\\anaconda3\\lib\\site-packages (from notebook>=5.6.0->jupyterthemes) (1.8.0)\n",
      "Requirement already satisfied: tornado>=6.1 in c:\\users\\dehrens1\\anaconda3\\lib\\site-packages (from notebook>=5.6.0->jupyterthemes) (6.1)\n",
      "Requirement already satisfied: pywin32>=1.0 in c:\\users\\dehrens1\\anaconda3\\lib\\site-packages (from jupyter-core->jupyterthemes) (228)\n",
      "Requirement already satisfied: wcwidth in c:\\users\\dehrens1\\anaconda3\\lib\\site-packages (from prompt-toolkit!=3.0.0,!=3.0.1,<3.1.0,>=2.0.0->ipython>=5.4.1->jupyterthemes) (0.2.5)\n",
      "Requirement already satisfied: pywinpty>=0.5 in c:\\users\\dehrens1\\anaconda3\\lib\\site-packages (from terminado>=0.8.3->notebook>=5.6.0->jupyterthemes) (0.5.7)\n",
      "Requirement already satisfied: cffi>=1.0.0 in c:\\users\\dehrens1\\anaconda3\\lib\\site-packages (from argon2-cffi->notebook>=5.6.0->jupyterthemes) (1.14.6)\n",
      "Requirement already satisfied: pycparser in c:\\users\\dehrens1\\anaconda3\\lib\\site-packages (from cffi>=1.0.0->argon2-cffi->notebook>=5.6.0->jupyterthemes) (2.20)\n",
      "Requirement already satisfied: debugpy<2.0,>=1.0.0 in c:\\users\\dehrens1\\anaconda3\\lib\\site-packages (from ipykernel->notebook>=5.6.0->jupyterthemes) (1.4.1)\n",
      "Requirement already satisfied: MarkupSafe>=0.23 in c:\\users\\dehrens1\\anaconda3\\lib\\site-packages (from jinja2->notebook>=5.6.0->jupyterthemes) (1.1.1)\n",
      "Requirement already satisfied: jupyterlab-pygments in c:\\users\\dehrens1\\anaconda3\\lib\\site-packages (from nbconvert->notebook>=5.6.0->jupyterthemes) (0.1.2)\n",
      "Requirement already satisfied: mistune<2,>=0.8.1 in c:\\users\\dehrens1\\anaconda3\\lib\\site-packages (from nbconvert->notebook>=5.6.0->jupyterthemes) (0.8.4)\n",
      "Requirement already satisfied: testpath in c:\\users\\dehrens1\\anaconda3\\lib\\site-packages (from nbconvert->notebook>=5.6.0->jupyterthemes) (0.5.0)\n",
      "Requirement already satisfied: defusedxml in c:\\users\\dehrens1\\anaconda3\\lib\\site-packages (from nbconvert->notebook>=5.6.0->jupyterthemes) (0.7.1)\n",
      "Requirement already satisfied: pandocfilters>=1.4.1 in c:\\users\\dehrens1\\anaconda3\\lib\\site-packages (from nbconvert->notebook>=5.6.0->jupyterthemes) (1.4.3)\n",
      "Requirement already satisfied: nbclient<0.6.0,>=0.5.0 in c:\\users\\dehrens1\\anaconda3\\lib\\site-packages (from nbconvert->notebook>=5.6.0->jupyterthemes) (0.5.3)\n",
      "Requirement already satisfied: bleach in c:\\users\\dehrens1\\anaconda3\\lib\\site-packages (from nbconvert->notebook>=5.6.0->jupyterthemes) (4.0.0)\n",
      "Requirement already satisfied: entrypoints>=0.2.2 in c:\\users\\dehrens1\\anaconda3\\lib\\site-packages (from nbconvert->notebook>=5.6.0->jupyterthemes) (0.3)\n",
      "Requirement already satisfied: nest-asyncio in c:\\users\\dehrens1\\anaconda3\\lib\\site-packages (from nbclient<0.6.0,>=0.5.0->nbconvert->notebook>=5.6.0->jupyterthemes) (1.5.1)\n",
      "Requirement already satisfied: async-generator in c:\\users\\dehrens1\\anaconda3\\lib\\site-packages (from nbclient<0.6.0,>=0.5.0->nbconvert->notebook>=5.6.0->jupyterthemes) (1.10)\n",
      "Requirement already satisfied: jsonschema!=2.5.0,>=2.4 in c:\\users\\dehrens1\\anaconda3\\lib\\site-packages (from nbformat->notebook>=5.6.0->jupyterthemes) (3.2.0)\n",
      "Requirement already satisfied: attrs>=17.4.0 in c:\\users\\dehrens1\\anaconda3\\lib\\site-packages (from jsonschema!=2.5.0,>=2.4->nbformat->notebook>=5.6.0->jupyterthemes) (21.2.0)\n",
      "Requirement already satisfied: pyrsistent>=0.14.0 in c:\\users\\dehrens1\\anaconda3\\lib\\site-packages (from jsonschema!=2.5.0,>=2.4->nbformat->notebook>=5.6.0->jupyterthemes) (0.18.0)\n",
      "Requirement already satisfied: webencodings in c:\\users\\dehrens1\\anaconda3\\lib\\site-packages (from bleach->nbconvert->notebook>=5.6.0->jupyterthemes) (0.5.1)\n",
      "Requirement already satisfied: packaging in c:\\users\\dehrens1\\anaconda3\\lib\\site-packages (from bleach->nbconvert->notebook>=5.6.0->jupyterthemes) (21.0)\n"
     ]
    }
   ],
   "source": [
    "!pip install --upgrade jupyterthemes"
   ]
  },
  {
   "cell_type": "code",
   "execution_count": 15,
   "id": "00a99edc",
   "metadata": {},
   "outputs": [
    {
     "name": "stdout",
     "output_type": "stream",
     "text": [
      "Available Themes: \n",
      "   chesterish\n",
      "   grade3\n",
      "   gruvboxd\n",
      "   gruvboxl\n",
      "   monokai\n",
      "   oceans16\n",
      "   onedork\n",
      "   solarizedd\n",
      "   solarizedl\n"
     ]
    }
   ],
   "source": [
    "!jt -l"
   ]
  },
  {
   "cell_type": "code",
   "execution_count": 3,
   "id": "5a9ab049",
   "metadata": {},
   "outputs": [],
   "source": [
    "!jt -t monokai -T -N -kl -f hack -fs 12 -tf ubuntu -tfs 15 -nf oxygen -nfs 150 -ofs 11 -dfs 11 -cellw 88% -lineh 190 -cursc o -cursw 5 -altp"
   ]
  },
  {
   "cell_type": "code",
   "execution_count": 5,
   "id": "9d15a501",
   "metadata": {},
   "outputs": [],
   "source": [
    "!jt -t gruvboxd \n"
   ]
  },
  {
   "cell_type": "code",
   "execution_count": 6,
   "id": "a44f4dff",
   "metadata": {},
   "outputs": [
    {
     "name": "stdout",
     "output_type": "stream",
     "text": [
      "8.54 ns ± 0.0513 ns per loop (mean ± std. dev. of 7 runs, 100000000 loops each)\n"
     ]
    }
   ],
   "source": [
    "%timeit 2 + 3"
   ]
  },
  {
   "cell_type": "code",
   "execution_count": 7,
   "id": "3060fecb",
   "metadata": {},
   "outputs": [
    {
     "name": "stdout",
     "output_type": "stream",
     "text": [
      "Reset css and font defaults in:\n",
      "C:\\Users\\dehrens1\\.jupyter\\custom &\n",
      "C:\\Users\\dehrens1\\AppData\\Roaming\\jupyter\\nbextensions\n"
     ]
    }
   ],
   "source": [
    "!jt -r"
   ]
  },
  {
   "cell_type": "code",
   "execution_count": 9,
   "id": "e4c8b6a9",
   "metadata": {},
   "outputs": [
    {
     "ename": "NameError",
     "evalue": "name 'hv' is not defined",
     "output_type": "error",
     "traceback": [
      "\u001b[1;31m---------------------------------------------------------------------------\u001b[0m",
      "\u001b[1;31mNameError\u001b[0m                                 Traceback (most recent call last)",
      "\u001b[1;32m~\\AppData\\Local\\Temp/ipykernel_73644/3230074378.py\u001b[0m in \u001b[0;36m<module>\u001b[1;34m\u001b[0m\n\u001b[1;32m----> 1\u001b[1;33m \u001b[0mhv\u001b[0m\u001b[1;33m.\u001b[0m\u001b[0mhelp\u001b[0m\u001b[1;33m(\u001b[0m\u001b[0mhv\u001b[0m\u001b[1;33m.\u001b[0m\u001b[0mCurve\u001b[0m\u001b[1;33m)\u001b[0m\u001b[1;33m\u001b[0m\u001b[1;33m\u001b[0m\u001b[0m\n\u001b[0m",
      "\u001b[1;31mNameError\u001b[0m: name 'hv' is not defined"
     ]
    }
   ],
   "source": [
    "hv.help(hv.Curve)"
   ]
  },
  {
   "cell_type": "code",
   "execution_count": null,
   "id": "07b7ff09",
   "metadata": {},
   "outputs": [],
   "source": []
  }
 ],
 "metadata": {
  "kernelspec": {
   "display_name": "Python 3 (ipykernel)",
   "language": "python",
   "name": "python3"
  },
  "language_info": {
   "codemirror_mode": {
    "name": "ipython",
    "version": 3
   },
   "file_extension": ".py",
   "mimetype": "text/x-python",
   "name": "python",
   "nbconvert_exporter": "python",
   "pygments_lexer": "ipython3",
   "version": "3.9.13"
  }
 },
 "nbformat": 4,
 "nbformat_minor": 5
}
