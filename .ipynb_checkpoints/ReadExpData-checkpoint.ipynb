{
 "cells": [
  {
   "cell_type": "markdown",
   "id": "60337e8a",
   "metadata": {
    "slideshow": {
     "slide_type": "slide"
    }
   },
   "source": [
    "# Read Experimental Data\n",
    " This `notebook` goes over how to read the recorded experimental data with __*synapse*__.\n",
    " We will go over every step\n",
    " 1. Select and load the experiment data\n",
    " 2. Conversion into matrix format for plotting and analysis\n",
    " 3. Obtain <font color = green>FFT</font> \n",
    " 4. Plot!\n",
    "\n",
    "### alright let's do _this_!\n",
    "<br>\n",
    "***\n",
    "First lets import the libraries that we will be using:"
   ]
  },
  {
   "cell_type": "code",
   "execution_count": 1,
   "id": "8f11e914",
   "metadata": {
    "scrolled": true,
    "slideshow": {
     "slide_type": "subslide"
    }
   },
   "outputs": [],
   "source": [
    "import tdt # These are the functions for tdt\n",
    "import pandas as pd \n",
    "import numpy as np\n",
    "import scipy.signal\n",
    "import matplotlib.pyplot as plt # this is used for plotting"
   ]
  },
  {
   "cell_type": "markdown",
   "id": "3ce4ed5c",
   "metadata": {},
   "source": [
    "We ask for the directory where the experiment is!"
   ]
  },
  {
   "cell_type": "code",
   "execution_count": 9,
   "id": "ef7270ec",
   "metadata": {},
   "outputs": [
    {
     "name": "stdout",
     "output_type": "stream",
     "text": [
      "A:/ExpData_Tank/Rec_StimJHU-220516-173515/sub-IrinaTest-220516-174814\n"
     ]
    }
   ],
   "source": [
    "from tkinter import Tk, filedialog\n",
    "root = Tk() # pointing root to Tk() to use it as Tk() in program.\n",
    "root.withdraw() # Hides small tkinter window.\n",
    "root.attributes('-topmost', True) # Opened windows will be active. above all windows despite of selection.\n",
    "exp_path = filedialog.askdirectory(parent=root, initialdir='A:/ExpData_Tank/',title= 'Hello! Please select the experiment to load!') # Returns opened path as str\n",
    "print(exp_path)\n"
   ]
  },
  {
   "cell_type": "markdown",
   "id": "36a05607",
   "metadata": {},
   "source": [
    "### Import the synapse data!\n",
    "Now we know the path to the directory where the data is so we load it using the __*`tdt`*__ functions"
   ]
  },
  {
   "cell_type": "code",
   "execution_count": 10,
   "id": "5a2d1320",
   "metadata": {
    "scrolled": true
   },
   "outputs": [
    {
     "name": "stdout",
     "output_type": "stream",
     "text": [
      "read from t=0s to t=77.19s\n"
     ]
    }
   ],
   "source": [
    "data = tdt.read_block(exp_path)"
   ]
  },
  {
   "cell_type": "code",
   "execution_count": 13,
   "id": "047ab0fa",
   "metadata": {},
   "outputs": [
    {
     "data": {
      "text/plain": [
       "epocs\t[struct]\n",
       "snips\t[struct]\n",
       "streams\t[struct]\n",
       "scalars\t[struct]\n",
       "info\t[struct]\n",
       "time_ranges:\tarray([[ 0.],\n",
       "       [inf]])"
      ]
     },
     "execution_count": 13,
     "metadata": {},
     "output_type": "execute_result"
    }
   ],
   "source": [
    "data"
   ]
  },
  {
   "cell_type": "code",
   "execution_count": null,
   "id": "16892040",
   "metadata": {},
   "outputs": [],
   "source": []
  },
  {
   "cell_type": "markdown",
   "id": "7c3deaf7",
   "metadata": {},
   "source": [
    "### Plot the stimulation streams as they are"
   ]
  },
  {
   "cell_type": "code",
   "execution_count": 11,
   "id": "0933a08f",
   "metadata": {},
   "outputs": [
    {
     "data": {
      "text/plain": [
       "<function matplotlib.pyplot.show(close=None, block=None)>"
      ]
     },
     "execution_count": 11,
     "metadata": {},
     "output_type": "execute_result"
    },
    {
     "data": {
      "image/png": "[encoded data removed]",
      "text/plain": [
       "<Figure size 432x288 with 1 Axes>"
      ]
     },
     "metadata": {
      "needs_background": "light"
     },
     "output_type": "display_data"
    }
   ],
   "source": [
    "plt.figure(0)\n",
    "plt.plot(data.streams.eS1r.data[0,:])\n",
    "plt.show"
   ]
  },
  {
   "cell_type": "markdown",
   "id": "7014136f",
   "metadata": {},
   "source": [
    "### Plotting all recording after stim"
   ]
  },
  {
   "cell_type": "code",
   "execution_count": 12,
   "id": "d57f2e14",
   "metadata": {
    "scrolled": true
   },
   "outputs": [
    {
     "ename": "NameError",
     "evalue": "name 'peak_locs' is not defined",
     "output_type": "error",
     "traceback": [
      "\u001b[1;31m---------------------------------------------------------------------------\u001b[0m",
      "\u001b[1;31mNameError\u001b[0m                                 Traceback (most recent call last)",
      "\u001b[1;32m~\\AppData\\Local\\Temp/ipykernel_12944/1056856849.py\u001b[0m in \u001b[0;36m<module>\u001b[1;34m\u001b[0m\n\u001b[0;32m      1\u001b[0m \u001b[0mplt\u001b[0m\u001b[1;33m.\u001b[0m\u001b[0mfigure\u001b[0m\u001b[1;33m(\u001b[0m\u001b[1;36m1\u001b[0m\u001b[1;33m)\u001b[0m\u001b[1;33m\u001b[0m\u001b[1;33m\u001b[0m\u001b[0m\n\u001b[1;32m----> 2\u001b[1;33m \u001b[1;32mfor\u001b[0m \u001b[0mpulse\u001b[0m \u001b[1;32min\u001b[0m \u001b[0mrange\u001b[0m\u001b[1;33m(\u001b[0m\u001b[1;36m0\u001b[0m\u001b[1;33m,\u001b[0m\u001b[0mnp\u001b[0m\u001b[1;33m.\u001b[0m\u001b[0msize\u001b[0m\u001b[1;33m(\u001b[0m\u001b[0mpeak_locs\u001b[0m\u001b[1;33m)\u001b[0m\u001b[1;33m)\u001b[0m\u001b[1;33m:\u001b[0m\u001b[1;33m\u001b[0m\u001b[1;33m\u001b[0m\u001b[0m\n\u001b[0m\u001b[0;32m      3\u001b[0m     \u001b[0mstart_idx\u001b[0m \u001b[1;33m=\u001b[0m \u001b[0mint\u001b[0m\u001b[1;33m(\u001b[0m\u001b[0mlfp_locs\u001b[0m\u001b[1;33m[\u001b[0m\u001b[0mpulse\u001b[0m\u001b[1;33m]\u001b[0m\u001b[1;33m-\u001b[0m\u001b[1;36m305\u001b[0m\u001b[1;33m)\u001b[0m\u001b[1;33m\u001b[0m\u001b[1;33m\u001b[0m\u001b[0m\n\u001b[0;32m      4\u001b[0m     \u001b[0mend_idx\u001b[0m \u001b[1;33m=\u001b[0m \u001b[0mint\u001b[0m\u001b[1;33m(\u001b[0m\u001b[0mlfp_locs\u001b[0m\u001b[1;33m[\u001b[0m\u001b[0mpulse\u001b[0m\u001b[1;33m]\u001b[0m\u001b[1;33m+\u001b[0m\u001b[1;36m3052\u001b[0m\u001b[1;33m)\u001b[0m\u001b[1;33m\u001b[0m\u001b[1;33m\u001b[0m\u001b[0m\n\u001b[0;32m      5\u001b[0m     \u001b[0mstacked_responses\u001b[0m\u001b[1;33m[\u001b[0m\u001b[1;33m:\u001b[0m\u001b[1;33m,\u001b[0m\u001b[1;33m:\u001b[0m\u001b[1;33m,\u001b[0m\u001b[0mpulse\u001b[0m\u001b[1;33m]\u001b[0m \u001b[1;33m=\u001b[0m \u001b[0mlfp_data\u001b[0m\u001b[1;33m[\u001b[0m\u001b[1;33m:\u001b[0m\u001b[1;33m,\u001b[0m\u001b[0mstart_idx\u001b[0m\u001b[1;33m:\u001b[0m\u001b[0mend_idx\u001b[0m\u001b[1;33m]\u001b[0m\u001b[1;33m\u001b[0m\u001b[1;33m\u001b[0m\u001b[0m\n",
      "\u001b[1;31mNameError\u001b[0m: name 'peak_locs' is not defined"
     ]
    },
    {
     "data": {
      "text/plain": [
       "<Figure size 432x288 with 0 Axes>"
      ]
     },
     "metadata": {},
     "output_type": "display_data"
    }
   ],
   "source": [
    "plt.figure(1)\n",
    "for pulse in range(0,np.size(peak_locs)):\n",
    "    start_idx = int(lfp_locs[pulse]-305)\n",
    "    end_idx = int(lfp_locs[pulse]+3052)\n",
    "    stacked_responses[:,:,pulse] = lfp_data[:,start_idx:end_idx]\n",
    "    plt.plot(time_vect,stacked_responses[0,:,pulse]+.0003*pulse)\n",
    "\n",
    "plt.show"
   ]
  },
  {
   "cell_type": "markdown",
   "id": "c9a69601",
   "metadata": {},
   "source": [
    "### Average Response to stimulation"
   ]
  },
  {
   "cell_type": "code",
   "execution_count": 8,
   "id": "5ead721f",
   "metadata": {},
   "outputs": [
    {
     "ename": "NameError",
     "evalue": "name 'stacked_responses' is not defined",
     "output_type": "error",
     "traceback": [
      "\u001b[1;31m---------------------------------------------------------------------------\u001b[0m",
      "\u001b[1;31mNameError\u001b[0m                                 Traceback (most recent call last)",
      "\u001b[1;32m~\\AppData\\Local\\Temp/ipykernel_12944/2976912944.py\u001b[0m in \u001b[0;36m<module>\u001b[1;34m\u001b[0m\n\u001b[0;32m      1\u001b[0m \u001b[0mplt\u001b[0m\u001b[1;33m.\u001b[0m\u001b[0mfigure\u001b[0m\u001b[1;33m(\u001b[0m\u001b[1;36m2\u001b[0m\u001b[1;33m)\u001b[0m\u001b[1;33m\u001b[0m\u001b[1;33m\u001b[0m\u001b[0m\n\u001b[1;32m----> 2\u001b[1;33m \u001b[0mavg_response\u001b[0m \u001b[1;33m=\u001b[0m \u001b[0mnp\u001b[0m\u001b[1;33m.\u001b[0m\u001b[0mmean\u001b[0m\u001b[1;33m(\u001b[0m\u001b[0mstacked_responses\u001b[0m\u001b[1;33m,\u001b[0m\u001b[0maxis\u001b[0m\u001b[1;33m=\u001b[0m\u001b[1;36m2\u001b[0m\u001b[1;33m)\u001b[0m\u001b[1;33m\u001b[0m\u001b[1;33m\u001b[0m\u001b[0m\n\u001b[0m\u001b[0;32m      3\u001b[0m \u001b[0mstd_dev_response\u001b[0m \u001b[1;33m=\u001b[0m \u001b[0mnp\u001b[0m\u001b[1;33m.\u001b[0m\u001b[0mstd\u001b[0m\u001b[1;33m(\u001b[0m\u001b[0mstacked_responses\u001b[0m\u001b[1;33m,\u001b[0m\u001b[0maxis\u001b[0m\u001b[1;33m=\u001b[0m\u001b[1;36m2\u001b[0m\u001b[1;33m)\u001b[0m\u001b[1;33m\u001b[0m\u001b[1;33m\u001b[0m\u001b[0m\n\u001b[0;32m      4\u001b[0m \u001b[0mplt\u001b[0m\u001b[1;33m.\u001b[0m\u001b[0mplot\u001b[0m\u001b[1;33m(\u001b[0m\u001b[0mtime_vect\u001b[0m\u001b[1;33m,\u001b[0m\u001b[0mavg_response\u001b[0m\u001b[1;33m[\u001b[0m\u001b[1;36m0\u001b[0m\u001b[1;33m,\u001b[0m\u001b[1;33m:\u001b[0m\u001b[1;33m]\u001b[0m\u001b[1;33m,\u001b[0m\u001b[0mcolor\u001b[0m\u001b[1;33m=\u001b[0m\u001b[1;34m'b'\u001b[0m\u001b[1;33m)\u001b[0m\u001b[1;33m\u001b[0m\u001b[1;33m\u001b[0m\u001b[0m\n\u001b[0;32m      5\u001b[0m \u001b[1;31m#plt.plot(time_vect,avg_response[0,:]+std_dev_response[0,:],linestyle=':',color='b')\u001b[0m\u001b[1;33m\u001b[0m\u001b[1;33m\u001b[0m\u001b[0m\n",
      "\u001b[1;31mNameError\u001b[0m: name 'stacked_responses' is not defined"
     ]
    },
    {
     "data": {
      "text/plain": [
       "<Figure size 432x288 with 0 Axes>"
      ]
     },
     "metadata": {},
     "output_type": "display_data"
    }
   ],
   "source": [
    "plt.figure(2)\n",
    "avg_response = np.mean(stacked_responses,axis=2)\n",
    "std_dev_response = np.std(stacked_responses,axis=2)\n",
    "plt.plot(time_vect,avg_response[0,:],color='b')\n",
    "#plt.plot(time_vect,avg_response[0,:]+std_dev_response[0,:],linestyle=':',color='b')\n",
    "#plt.plot(time_vect,avg_response[0,:]-std_dev_response[0,:],linestyle=':',color='b')\n",
    "plt.ylim(-0.0004,0.0004)\n",
    "plt.show()\n"
   ]
  },
  {
   "cell_type": "markdown",
   "id": "b75fad30",
   "metadata": {},
   "source": [
    "### Doing preliminary spectral analysis\n",
    "Things to do still:\n",
    "- normalize\n",
    "- Check fft parameters. If possible do it with wavelets.\n"
   ]
  },
  {
   "cell_type": "code",
   "execution_count": 8,
   "id": "1284edc4",
   "metadata": {},
   "outputs": [
    {
     "data": {
      "image/png": "[encoded data removed]",
      "text/plain": [
       "<Figure size 432x288 with 1 Axes>"
      ]
     },
     "metadata": {
      "needs_background": "light"
     },
     "output_type": "display_data"
    }
   ],
   "source": [
    "fs_lfp = data.streams.TET1.fs\n",
    "fs_stim = data.streams.eS1r.fs\n",
    "peaks = scipy.signal.find_peaks(data.streams.eS1r.data[0,:],height=100,distance=8)\n",
    "peak_locs = peaks[0]\n",
    "lfp_locs = peak_locs*fs_lfp//fs_stim\n",
    "time_vect = np.arange(305+3052)/fs_lfp - .1\n",
    "stacked_responses = np.empty((4,305+3052,np.size(peak_locs)))\n",
    "lfp_data = data.streams.TET1.data\n",
    "\n",
    "f, t, Sxx = scipy.signal.spectrogram(lfp_data[1,:],fs_lfp,window=('hamming'),nperseg=600,noverlap=200)\n",
    "Sxx_altered = 10e15*Sxx\n",
    "plt.figure(3)\n",
    "plt.pcolormesh(t[0:100],f[0:30],Sxx_altered[0:30,0:100],vmin=30,vmax=6000000,shading ='auto')\n",
    "plt.xlabel('Time [s]')\n",
    "plt.ylabel('Frequency [Hz]')\n",
    "plt.show()"
   ]
  },
  {
   "cell_type": "code",
   "execution_count": 1,
   "id": "39816171",
   "metadata": {},
   "outputs": [
    {
     "name": "stdout",
     "output_type": "stream",
     "text": [
      "Collecting jupyterthemes\n",
      "  Downloading jupyterthemes-0.20.0-py2.py3-none-any.whl (7.0 MB)\n",
      "Collecting lesscpy>=0.11.2\n",
      "  Downloading lesscpy-0.15.0-py2.py3-none-any.whl (46 kB)\n",
      "Requirement already satisfied: jupyter-core in c:\\users\\daniel ehrens\\anaconda3\\lib\\site-packages (from jupyterthemes) (4.8.1)\n",
      "Requirement already satisfied: matplotlib>=1.4.3 in c:\\users\\daniel ehrens\\anaconda3\\lib\\site-packages (from jupyterthemes) (3.4.3)\n",
      "Requirement already satisfied: ipython>=5.4.1 in c:\\users\\daniel ehrens\\anaconda3\\lib\\site-packages (from jupyterthemes) (7.29.0)\n",
      "Requirement already satisfied: notebook>=5.6.0 in c:\\users\\daniel ehrens\\anaconda3\\lib\\site-packages (from jupyterthemes) (6.4.5)\n",
      "Requirement already satisfied: backcall in c:\\users\\daniel ehrens\\anaconda3\\lib\\site-packages (from ipython>=5.4.1->jupyterthemes) (0.2.0)\n",
      "Requirement already satisfied: decorator in c:\\users\\daniel ehrens\\anaconda3\\lib\\site-packages (from ipython>=5.4.1->jupyterthemes) (5.1.0)\n",
      "Requirement already satisfied: pickleshare in c:\\users\\daniel ehrens\\anaconda3\\lib\\site-packages (from ipython>=5.4.1->jupyterthemes) (0.7.5)\n",
      "Requirement already satisfied: traitlets>=4.2 in c:\\users\\daniel ehrens\\anaconda3\\lib\\site-packages (from ipython>=5.4.1->jupyterthemes) (5.1.0)\n",
      "Requirement already satisfied: setuptools>=18.5 in c:\\users\\daniel ehrens\\anaconda3\\lib\\site-packages (from ipython>=5.4.1->jupyterthemes) (58.0.4)\n",
      "Requirement already satisfied: pygments in c:\\users\\daniel ehrens\\anaconda3\\lib\\site-packages (from ipython>=5.4.1->jupyterthemes) (2.10.0)\n",
      "Requirement already satisfied: matplotlib-inline in c:\\users\\daniel ehrens\\anaconda3\\lib\\site-packages (from ipython>=5.4.1->jupyterthemes) (0.1.2)\n",
      "Requirement already satisfied: jedi>=0.16 in c:\\users\\daniel ehrens\\anaconda3\\lib\\site-packages (from ipython>=5.4.1->jupyterthemes) (0.18.0)\n",
      "Requirement already satisfied: colorama in c:\\users\\daniel ehrens\\anaconda3\\lib\\site-packages (from ipython>=5.4.1->jupyterthemes) (0.4.4)\n",
      "Requirement already satisfied: prompt-toolkit!=3.0.0,!=3.0.1,<3.1.0,>=2.0.0 in c:\\users\\daniel ehrens\\anaconda3\\lib\\site-packages (from ipython>=5.4.1->jupyterthemes) (3.0.20)\n",
      "Requirement already satisfied: parso<0.9.0,>=0.8.0 in c:\\users\\daniel ehrens\\anaconda3\\lib\\site-packages (from jedi>=0.16->ipython>=5.4.1->jupyterthemes) (0.8.2)\n",
      "Requirement already satisfied: ply in c:\\users\\daniel ehrens\\anaconda3\\lib\\site-packages (from lesscpy>=0.11.2->jupyterthemes) (3.11)\n",
      "Requirement already satisfied: six in c:\\users\\daniel ehrens\\anaconda3\\lib\\site-packages (from lesscpy>=0.11.2->jupyterthemes) (1.16.0)\n",
      "Requirement already satisfied: kiwisolver>=1.0.1 in c:\\users\\daniel ehrens\\anaconda3\\lib\\site-packages (from matplotlib>=1.4.3->jupyterthemes) (1.3.1)\n",
      "Requirement already satisfied: cycler>=0.10 in c:\\users\\daniel ehrens\\anaconda3\\lib\\site-packages (from matplotlib>=1.4.3->jupyterthemes) (0.10.0)\n",
      "Requirement already satisfied: numpy>=1.16 in c:\\users\\daniel ehrens\\anaconda3\\lib\\site-packages (from matplotlib>=1.4.3->jupyterthemes) (1.20.3)\n",
      "Requirement already satisfied: pillow>=6.2.0 in c:\\users\\daniel ehrens\\anaconda3\\lib\\site-packages (from matplotlib>=1.4.3->jupyterthemes) (8.4.0)\n",
      "Requirement already satisfied: pyparsing>=2.2.1 in c:\\users\\daniel ehrens\\anaconda3\\lib\\site-packages (from matplotlib>=1.4.3->jupyterthemes) (3.0.4)\n",
      "Requirement already satisfied: python-dateutil>=2.7 in c:\\users\\daniel ehrens\\anaconda3\\lib\\site-packages (from matplotlib>=1.4.3->jupyterthemes) (2.8.2)\n",
      "Requirement already satisfied: Send2Trash>=1.5.0 in c:\\users\\daniel ehrens\\anaconda3\\lib\\site-packages (from notebook>=5.6.0->jupyterthemes) (1.8.0)\n",
      "Requirement already satisfied: jupyter-client>=5.3.4 in c:\\users\\daniel ehrens\\anaconda3\\lib\\site-packages (from notebook>=5.6.0->jupyterthemes) (6.1.12)\n",
      "Requirement already satisfied: terminado>=0.8.3 in c:\\users\\daniel ehrens\\anaconda3\\lib\\site-packages (from notebook>=5.6.0->jupyterthemes) (0.9.4)\n",
      "Requirement already satisfied: ipython-genutils in c:\\users\\daniel ehrens\\anaconda3\\lib\\site-packages (from notebook>=5.6.0->jupyterthemes) (0.2.0)\n",
      "Requirement already satisfied: jinja2 in c:\\users\\daniel ehrens\\anaconda3\\lib\\site-packages (from notebook>=5.6.0->jupyterthemes) (2.11.3)\n",
      "Requirement already satisfied: nbformat in c:\\users\\daniel ehrens\\anaconda3\\lib\\site-packages (from notebook>=5.6.0->jupyterthemes) (5.1.3)\n",
      "Requirement already satisfied: ipykernel in c:\\users\\daniel ehrens\\anaconda3\\lib\\site-packages (from notebook>=5.6.0->jupyterthemes) (6.4.1)\n",
      "Requirement already satisfied: nbconvert in c:\\users\\daniel ehrens\\anaconda3\\lib\\site-packages (from notebook>=5.6.0->jupyterthemes) (6.1.0)\n",
      "Requirement already satisfied: prometheus-client in c:\\users\\daniel ehrens\\anaconda3\\lib\\site-packages (from notebook>=5.6.0->jupyterthemes) (0.11.0)\n",
      "Requirement already satisfied: argon2-cffi in c:\\users\\daniel ehrens\\anaconda3\\lib\\site-packages (from notebook>=5.6.0->jupyterthemes) (20.1.0)\n",
      "Requirement already satisfied: pyzmq>=17 in c:\\users\\daniel ehrens\\anaconda3\\lib\\site-packages (from notebook>=5.6.0->jupyterthemes) (22.2.1)\n",
      "Requirement already satisfied: tornado>=6.1 in c:\\users\\daniel ehrens\\anaconda3\\lib\\site-packages (from notebook>=5.6.0->jupyterthemes) (6.1)\n",
      "Requirement already satisfied: pywin32>=1.0 in c:\\users\\daniel ehrens\\anaconda3\\lib\\site-packages (from jupyter-core->jupyterthemes) (228)\n",
      "Requirement already satisfied: wcwidth in c:\\users\\daniel ehrens\\anaconda3\\lib\\site-packages (from prompt-toolkit!=3.0.0,!=3.0.1,<3.1.0,>=2.0.0->ipython>=5.4.1->jupyterthemes) (0.2.5)\n",
      "Requirement already satisfied: pywinpty>=0.5 in c:\\users\\daniel ehrens\\anaconda3\\lib\\site-packages (from terminado>=0.8.3->notebook>=5.6.0->jupyterthemes) (0.5.7)\n",
      "Requirement already satisfied: cffi>=1.0.0 in c:\\users\\daniel ehrens\\anaconda3\\lib\\site-packages (from argon2-cffi->notebook>=5.6.0->jupyterthemes) (1.14.6)\n",
      "Requirement already satisfied: pycparser in c:\\users\\daniel ehrens\\anaconda3\\lib\\site-packages (from cffi>=1.0.0->argon2-cffi->notebook>=5.6.0->jupyterthemes) (2.20)\n",
      "Requirement already satisfied: debugpy<2.0,>=1.0.0 in c:\\users\\daniel ehrens\\anaconda3\\lib\\site-packages (from ipykernel->notebook>=5.6.0->jupyterthemes) (1.4.1)\n",
      "Requirement already satisfied: MarkupSafe>=0.23 in c:\\users\\daniel ehrens\\anaconda3\\lib\\site-packages (from jinja2->notebook>=5.6.0->jupyterthemes) (1.1.1)\n",
      "Requirement already satisfied: testpath in c:\\users\\daniel ehrens\\anaconda3\\lib\\site-packages (from nbconvert->notebook>=5.6.0->jupyterthemes) (0.5.0)\n",
      "Requirement already satisfied: pandocfilters>=1.4.1 in c:\\users\\daniel ehrens\\anaconda3\\lib\\site-packages (from nbconvert->notebook>=5.6.0->jupyterthemes) (1.4.3)\n",
      "Requirement already satisfied: mistune<2,>=0.8.1 in c:\\users\\daniel ehrens\\anaconda3\\lib\\site-packages (from nbconvert->notebook>=5.6.0->jupyterthemes) (0.8.4)\n",
      "Requirement already satisfied: entrypoints>=0.2.2 in c:\\users\\daniel ehrens\\anaconda3\\lib\\site-packages (from nbconvert->notebook>=5.6.0->jupyterthemes) (0.3)\n",
      "Requirement already satisfied: defusedxml in c:\\users\\daniel ehrens\\anaconda3\\lib\\site-packages (from nbconvert->notebook>=5.6.0->jupyterthemes) (0.7.1)\n",
      "Requirement already satisfied: jupyterlab-pygments in c:\\users\\daniel ehrens\\anaconda3\\lib\\site-packages (from nbconvert->notebook>=5.6.0->jupyterthemes) (0.1.2)\n",
      "Requirement already satisfied: nbclient<0.6.0,>=0.5.0 in c:\\users\\daniel ehrens\\anaconda3\\lib\\site-packages (from nbconvert->notebook>=5.6.0->jupyterthemes) (0.5.3)\n",
      "Requirement already satisfied: bleach in c:\\users\\daniel ehrens\\anaconda3\\lib\\site-packages (from nbconvert->notebook>=5.6.0->jupyterthemes) (4.0.0)\n",
      "Requirement already satisfied: async-generator in c:\\users\\daniel ehrens\\anaconda3\\lib\\site-packages (from nbclient<0.6.0,>=0.5.0->nbconvert->notebook>=5.6.0->jupyterthemes) (1.10)\n",
      "Requirement already satisfied: nest-asyncio in c:\\users\\daniel ehrens\\anaconda3\\lib\\site-packages (from nbclient<0.6.0,>=0.5.0->nbconvert->notebook>=5.6.0->jupyterthemes) (1.5.1)\n",
      "Requirement already satisfied: jsonschema!=2.5.0,>=2.4 in c:\\users\\daniel ehrens\\anaconda3\\lib\\site-packages (from nbformat->notebook>=5.6.0->jupyterthemes) (3.2.0)\n",
      "Requirement already satisfied: pyrsistent>=0.14.0 in c:\\users\\daniel ehrens\\anaconda3\\lib\\site-packages (from jsonschema!=2.5.0,>=2.4->nbformat->notebook>=5.6.0->jupyterthemes) (0.18.0)\n",
      "Requirement already satisfied: attrs>=17.4.0 in c:\\users\\daniel ehrens\\anaconda3\\lib\\site-packages (from jsonschema!=2.5.0,>=2.4->nbformat->notebook>=5.6.0->jupyterthemes) (21.2.0)\n",
      "Requirement already satisfied: webencodings in c:\\users\\daniel ehrens\\anaconda3\\lib\\site-packages (from bleach->nbconvert->notebook>=5.6.0->jupyterthemes) (0.5.1)\n",
      "Requirement already satisfied: packaging in c:\\users\\daniel ehrens\\anaconda3\\lib\\site-packages (from bleach->nbconvert->notebook>=5.6.0->jupyterthemes) (21.0)\n",
      "Installing collected packages: lesscpy, jupyterthemes\n",
      "Successfully installed jupyterthemes-0.20.0 lesscpy-0.15.0\n"
     ]
    }
   ],
   "source": [
    "!pip install jupyterthemes"
   ]
  },
  {
   "cell_type": "code",
   "execution_count": 2,
   "id": "78f0368c",
   "metadata": {},
   "outputs": [
    {
     "name": "stdout",
     "output_type": "stream",
     "text": [
      "Requirement already satisfied: jupyterthemes in c:\\users\\daniel ehrens\\anaconda3\\lib\\site-packages (0.20.0)\n",
      "Requirement already satisfied: ipython>=5.4.1 in c:\\users\\daniel ehrens\\anaconda3\\lib\\site-packages (from jupyterthemes) (7.29.0)\n",
      "Requirement already satisfied: matplotlib>=1.4.3 in c:\\users\\daniel ehrens\\anaconda3\\lib\\site-packages (from jupyterthemes) (3.4.3)\n",
      "Requirement already satisfied: notebook>=5.6.0 in c:\\users\\daniel ehrens\\anaconda3\\lib\\site-packages (from jupyterthemes) (6.4.5)\n",
      "Requirement already satisfied: jupyter-core in c:\\users\\daniel ehrens\\anaconda3\\lib\\site-packages (from jupyterthemes) (4.8.1)\n",
      "Requirement already satisfied: lesscpy>=0.11.2 in c:\\users\\daniel ehrens\\anaconda3\\lib\\site-packages (from jupyterthemes) (0.15.0)\n",
      "Requirement already satisfied: jedi>=0.16 in c:\\users\\daniel ehrens\\anaconda3\\lib\\site-packages (from ipython>=5.4.1->jupyterthemes) (0.18.0)\n",
      "Requirement already satisfied: prompt-toolkit!=3.0.0,!=3.0.1,<3.1.0,>=2.0.0 in c:\\users\\daniel ehrens\\anaconda3\\lib\\site-packages (from ipython>=5.4.1->jupyterthemes) (3.0.20)\n",
      "Requirement already satisfied: pygments in c:\\users\\daniel ehrens\\anaconda3\\lib\\site-packages (from ipython>=5.4.1->jupyterthemes) (2.10.0)\n",
      "Requirement already satisfied: pickleshare in c:\\users\\daniel ehrens\\anaconda3\\lib\\site-packages (from ipython>=5.4.1->jupyterthemes) (0.7.5)\n",
      "Requirement already satisfied: colorama in c:\\users\\daniel ehrens\\anaconda3\\lib\\site-packages (from ipython>=5.4.1->jupyterthemes) (0.4.4)\n",
      "Requirement already satisfied: setuptools>=18.5 in c:\\users\\daniel ehrens\\anaconda3\\lib\\site-packages (from ipython>=5.4.1->jupyterthemes) (58.0.4)\n",
      "Requirement already satisfied: traitlets>=4.2 in c:\\users\\daniel ehrens\\anaconda3\\lib\\site-packages (from ipython>=5.4.1->jupyterthemes) (5.1.0)\n",
      "Requirement already satisfied: decorator in c:\\users\\daniel ehrens\\anaconda3\\lib\\site-packages (from ipython>=5.4.1->jupyterthemes) (5.1.0)\n",
      "Requirement already satisfied: backcall in c:\\users\\daniel ehrens\\anaconda3\\lib\\site-packages (from ipython>=5.4.1->jupyterthemes) (0.2.0)\n",
      "Requirement already satisfied: matplotlib-inline in c:\\users\\daniel ehrens\\anaconda3\\lib\\site-packages (from ipython>=5.4.1->jupyterthemes) (0.1.2)\n",
      "Requirement already satisfied: parso<0.9.0,>=0.8.0 in c:\\users\\daniel ehrens\\anaconda3\\lib\\site-packages (from jedi>=0.16->ipython>=5.4.1->jupyterthemes) (0.8.2)\n",
      "Requirement already satisfied: six in c:\\users\\daniel ehrens\\anaconda3\\lib\\site-packages (from lesscpy>=0.11.2->jupyterthemes) (1.16.0)\n",
      "Requirement already satisfied: ply in c:\\users\\daniel ehrens\\anaconda3\\lib\\site-packages (from lesscpy>=0.11.2->jupyterthemes) (3.11)\n",
      "Requirement already satisfied: python-dateutil>=2.7 in c:\\users\\daniel ehrens\\anaconda3\\lib\\site-packages (from matplotlib>=1.4.3->jupyterthemes) (2.8.2)\n",
      "Requirement already satisfied: pyparsing>=2.2.1 in c:\\users\\daniel ehrens\\anaconda3\\lib\\site-packages (from matplotlib>=1.4.3->jupyterthemes) (3.0.4)\n",
      "Requirement already satisfied: numpy>=1.16 in c:\\users\\daniel ehrens\\anaconda3\\lib\\site-packages (from matplotlib>=1.4.3->jupyterthemes) (1.20.3)\n",
      "Requirement already satisfied: pillow>=6.2.0 in c:\\users\\daniel ehrens\\anaconda3\\lib\\site-packages (from matplotlib>=1.4.3->jupyterthemes) (8.4.0)\n",
      "Requirement already satisfied: cycler>=0.10 in c:\\users\\daniel ehrens\\anaconda3\\lib\\site-packages (from matplotlib>=1.4.3->jupyterthemes) (0.10.0)\n",
      "Requirement already satisfied: kiwisolver>=1.0.1 in c:\\users\\daniel ehrens\\anaconda3\\lib\\site-packages (from matplotlib>=1.4.3->jupyterthemes) (1.3.1)\n",
      "Requirement already satisfied: prometheus-client in c:\\users\\daniel ehrens\\anaconda3\\lib\\site-packages (from notebook>=5.6.0->jupyterthemes) (0.11.0)\n",
      "Requirement already satisfied: nbconvert in c:\\users\\daniel ehrens\\anaconda3\\lib\\site-packages (from notebook>=5.6.0->jupyterthemes) (6.1.0)\n",
      "Requirement already satisfied: terminado>=0.8.3 in c:\\users\\daniel ehrens\\anaconda3\\lib\\site-packages (from notebook>=5.6.0->jupyterthemes) (0.9.4)\n",
      "Requirement already satisfied: nbformat in c:\\users\\daniel ehrens\\anaconda3\\lib\\site-packages (from notebook>=5.6.0->jupyterthemes) (5.1.3)\n",
      "Requirement already satisfied: jinja2 in c:\\users\\daniel ehrens\\anaconda3\\lib\\site-packages (from notebook>=5.6.0->jupyterthemes) (2.11.3)\n",
      "Requirement already satisfied: Send2Trash>=1.5.0 in c:\\users\\daniel ehrens\\anaconda3\\lib\\site-packages (from notebook>=5.6.0->jupyterthemes) (1.8.0)\n",
      "Requirement already satisfied: ipykernel in c:\\users\\daniel ehrens\\anaconda3\\lib\\site-packages (from notebook>=5.6.0->jupyterthemes) (6.4.1)\n",
      "Requirement already satisfied: argon2-cffi in c:\\users\\daniel ehrens\\anaconda3\\lib\\site-packages (from notebook>=5.6.0->jupyterthemes) (20.1.0)\n",
      "Requirement already satisfied: jupyter-client>=5.3.4 in c:\\users\\daniel ehrens\\anaconda3\\lib\\site-packages (from notebook>=5.6.0->jupyterthemes) (6.1.12)\n",
      "Requirement already satisfied: ipython-genutils in c:\\users\\daniel ehrens\\anaconda3\\lib\\site-packages (from notebook>=5.6.0->jupyterthemes) (0.2.0)\n",
      "Requirement already satisfied: tornado>=6.1 in c:\\users\\daniel ehrens\\anaconda3\\lib\\site-packages (from notebook>=5.6.0->jupyterthemes) (6.1)\n",
      "Requirement already satisfied: pyzmq>=17 in c:\\users\\daniel ehrens\\anaconda3\\lib\\site-packages (from notebook>=5.6.0->jupyterthemes) (22.2.1)\n",
      "Requirement already satisfied: pywin32>=1.0 in c:\\users\\daniel ehrens\\anaconda3\\lib\\site-packages (from jupyter-core->jupyterthemes) (228)\n",
      "Requirement already satisfied: wcwidth in c:\\users\\daniel ehrens\\anaconda3\\lib\\site-packages (from prompt-toolkit!=3.0.0,!=3.0.1,<3.1.0,>=2.0.0->ipython>=5.4.1->jupyterthemes) (0.2.5)\n",
      "Requirement already satisfied: pywinpty>=0.5 in c:\\users\\daniel ehrens\\anaconda3\\lib\\site-packages (from terminado>=0.8.3->notebook>=5.6.0->jupyterthemes) (0.5.7)\n",
      "Requirement already satisfied: cffi>=1.0.0 in c:\\users\\daniel ehrens\\anaconda3\\lib\\site-packages (from argon2-cffi->notebook>=5.6.0->jupyterthemes) (1.14.6)\n",
      "Requirement already satisfied: pycparser in c:\\users\\daniel ehrens\\anaconda3\\lib\\site-packages (from cffi>=1.0.0->argon2-cffi->notebook>=5.6.0->jupyterthemes) (2.20)\n",
      "Requirement already satisfied: debugpy<2.0,>=1.0.0 in c:\\users\\daniel ehrens\\anaconda3\\lib\\site-packages (from ipykernel->notebook>=5.6.0->jupyterthemes) (1.4.1)\n",
      "Requirement already satisfied: MarkupSafe>=0.23 in c:\\users\\daniel ehrens\\anaconda3\\lib\\site-packages (from jinja2->notebook>=5.6.0->jupyterthemes) (1.1.1)\n",
      "Requirement already satisfied: jupyterlab-pygments in c:\\users\\daniel ehrens\\anaconda3\\lib\\site-packages (from nbconvert->notebook>=5.6.0->jupyterthemes) (0.1.2)\n",
      "Requirement already satisfied: mistune<2,>=0.8.1 in c:\\users\\daniel ehrens\\anaconda3\\lib\\site-packages (from nbconvert->notebook>=5.6.0->jupyterthemes) (0.8.4)\n",
      "Requirement already satisfied: pandocfilters>=1.4.1 in c:\\users\\daniel ehrens\\anaconda3\\lib\\site-packages (from nbconvert->notebook>=5.6.0->jupyterthemes) (1.4.3)\n",
      "Requirement already satisfied: bleach in c:\\users\\daniel ehrens\\anaconda3\\lib\\site-packages (from nbconvert->notebook>=5.6.0->jupyterthemes) (4.0.0)\n",
      "Requirement already satisfied: defusedxml in c:\\users\\daniel ehrens\\anaconda3\\lib\\site-packages (from nbconvert->notebook>=5.6.0->jupyterthemes) (0.7.1)\n",
      "Requirement already satisfied: testpath in c:\\users\\daniel ehrens\\anaconda3\\lib\\site-packages (from nbconvert->notebook>=5.6.0->jupyterthemes) (0.5.0)\n",
      "Requirement already satisfied: nbclient<0.6.0,>=0.5.0 in c:\\users\\daniel ehrens\\anaconda3\\lib\\site-packages (from nbconvert->notebook>=5.6.0->jupyterthemes) (0.5.3)\n",
      "Requirement already satisfied: entrypoints>=0.2.2 in c:\\users\\daniel ehrens\\anaconda3\\lib\\site-packages (from nbconvert->notebook>=5.6.0->jupyterthemes) (0.3)\n",
      "Requirement already satisfied: nest-asyncio in c:\\users\\daniel ehrens\\anaconda3\\lib\\site-packages (from nbclient<0.6.0,>=0.5.0->nbconvert->notebook>=5.6.0->jupyterthemes) (1.5.1)\n",
      "Requirement already satisfied: async-generator in c:\\users\\daniel ehrens\\anaconda3\\lib\\site-packages (from nbclient<0.6.0,>=0.5.0->nbconvert->notebook>=5.6.0->jupyterthemes) (1.10)\n",
      "Requirement already satisfied: jsonschema!=2.5.0,>=2.4 in c:\\users\\daniel ehrens\\anaconda3\\lib\\site-packages (from nbformat->notebook>=5.6.0->jupyterthemes) (3.2.0)\n",
      "Requirement already satisfied: attrs>=17.4.0 in c:\\users\\daniel ehrens\\anaconda3\\lib\\site-packages (from jsonschema!=2.5.0,>=2.4->nbformat->notebook>=5.6.0->jupyterthemes) (21.2.0)\n",
      "Requirement already satisfied: pyrsistent>=0.14.0 in c:\\users\\daniel ehrens\\anaconda3\\lib\\site-packages (from jsonschema!=2.5.0,>=2.4->nbformat->notebook>=5.6.0->jupyterthemes) (0.18.0)\n",
      "Requirement already satisfied: packaging in c:\\users\\daniel ehrens\\anaconda3\\lib\\site-packages (from bleach->nbconvert->notebook>=5.6.0->jupyterthemes) (21.0)\n",
      "Requirement already satisfied: webencodings in c:\\users\\daniel ehrens\\anaconda3\\lib\\site-packages (from bleach->nbconvert->notebook>=5.6.0->jupyterthemes) (0.5.1)\n"
     ]
    }
   ],
   "source": [
    "!pip install --upgrade jupyterthemes"
   ]
  },
  {
   "cell_type": "code",
   "execution_count": 15,
   "id": "00a99edc",
   "metadata": {},
   "outputs": [
    {
     "name": "stdout",
     "output_type": "stream",
     "text": [
      "Available Themes: \n",
      "   chesterish\n",
      "   grade3\n",
      "   gruvboxd\n",
      "   gruvboxl\n",
      "   monokai\n",
      "   oceans16\n",
      "   onedork\n",
      "   solarizedd\n",
      "   solarizedl\n"
     ]
    }
   ],
   "source": [
    "!jt -l"
   ]
  },
  {
   "cell_type": "code",
   "execution_count": 23,
   "id": "5a9ab049",
   "metadata": {},
   "outputs": [],
   "source": [
    "!jt -t chesterish -T -N -kl -f hack -fs 12 -tf ubuntu -tfs 15 -nf oxygen -nfs 150 -ofs 11 -dfs 11 -cellw 88% -lineh 190 -cursc o -cursw 5 -altp"
   ]
  },
  {
   "cell_type": "code",
   "execution_count": 2,
   "id": "3060fecb",
   "metadata": {},
   "outputs": [
    {
     "name": "stdout",
     "output_type": "stream",
     "text": [
      "Reset css and font defaults in:\n",
      "C:\\Users\\dehrens1\\.jupyter\\custom &\n",
      "C:\\Users\\dehrens1\\AppData\\Roaming\\jupyter\\nbextensions\n"
     ]
    }
   ],
   "source": [
    "!jt -r"
   ]
  },
  {
   "cell_type": "code",
   "execution_count": 24,
   "id": "822be157",
   "metadata": {
    "scrolled": true
   },
   "outputs": [
    {
     "name": "stdout",
     "output_type": "stream",
     "text": [
      "Collecting jupyterlab_darkside_ui\n",
      "  Downloading jupyterlab_darkside_ui-0.2.0-py3-none-any.whl (17 kB)\n",
      "Collecting nbconvert==5.6.1\n",
      "  Downloading nbconvert-5.6.1-py2.py3-none-any.whl (455 kB)\n",
      "Collecting jedi==0.17.2\n",
      "  Downloading jedi-0.17.2-py2.py3-none-any.whl (1.4 MB)\n",
      "Requirement already satisfied: jupyterlab==3.*,>=3.0.0 in c:\\users\\daniel ehrens\\anaconda3\\lib\\site-packages (from jupyterlab_darkside_ui) (3.2.1)\n",
      "Collecting parso<0.8.0,>=0.7.0\n",
      "  Downloading parso-0.7.1-py2.py3-none-any.whl (109 kB)\n",
      "Requirement already satisfied: jupyter-server~=1.4 in c:\\users\\daniel ehrens\\anaconda3\\lib\\site-packages (from jupyterlab==3.*,>=3.0.0->jupyterlab_darkside_ui) (1.4.1)\n",
      "Requirement already satisfied: jupyterlab-server~=2.3 in c:\\users\\daniel ehrens\\anaconda3\\lib\\site-packages (from jupyterlab==3.*,>=3.0.0->jupyterlab_darkside_ui) (2.8.2)\n",
      "Requirement already satisfied: jupyter-core in c:\\users\\daniel ehrens\\anaconda3\\lib\\site-packages (from jupyterlab==3.*,>=3.0.0->jupyterlab_darkside_ui) (4.8.1)\n",
      "Requirement already satisfied: ipython in c:\\users\\daniel ehrens\\anaconda3\\lib\\site-packages (from jupyterlab==3.*,>=3.0.0->jupyterlab_darkside_ui) (7.29.0)\n",
      "Requirement already satisfied: jinja2>=2.1 in c:\\users\\daniel ehrens\\anaconda3\\lib\\site-packages (from jupyterlab==3.*,>=3.0.0->jupyterlab_darkside_ui) (2.11.3)\n",
      "Requirement already satisfied: packaging in c:\\users\\daniel ehrens\\anaconda3\\lib\\site-packages (from jupyterlab==3.*,>=3.0.0->jupyterlab_darkside_ui) (21.0)\n",
      "Requirement already satisfied: tornado>=6.1.0 in c:\\users\\daniel ehrens\\anaconda3\\lib\\site-packages (from jupyterlab==3.*,>=3.0.0->jupyterlab_darkside_ui) (6.1)\n",
      "Requirement already satisfied: nbclassic~=0.2 in c:\\users\\daniel ehrens\\anaconda3\\lib\\site-packages (from jupyterlab==3.*,>=3.0.0->jupyterlab_darkside_ui) (0.2.6)\n",
      "Requirement already satisfied: testpath in c:\\users\\daniel ehrens\\anaconda3\\lib\\site-packages (from nbconvert==5.6.1->jupyterlab_darkside_ui) (0.5.0)\n",
      "Requirement already satisfied: mistune<2,>=0.8.1 in c:\\users\\daniel ehrens\\anaconda3\\lib\\site-packages (from nbconvert==5.6.1->jupyterlab_darkside_ui) (0.8.4)\n",
      "Requirement already satisfied: defusedxml in c:\\users\\daniel ehrens\\anaconda3\\lib\\site-packages (from nbconvert==5.6.1->jupyterlab_darkside_ui) (0.7.1)\n",
      "Requirement already satisfied: traitlets>=4.2 in c:\\users\\daniel ehrens\\anaconda3\\lib\\site-packages (from nbconvert==5.6.1->jupyterlab_darkside_ui) (5.1.0)\n",
      "Requirement already satisfied: nbformat>=4.4 in c:\\users\\daniel ehrens\\anaconda3\\lib\\site-packages (from nbconvert==5.6.1->jupyterlab_darkside_ui) (5.1.3)\n",
      "Requirement already satisfied: entrypoints>=0.2.2 in c:\\users\\daniel ehrens\\anaconda3\\lib\\site-packages (from nbconvert==5.6.1->jupyterlab_darkside_ui) (0.3)\n",
      "Requirement already satisfied: bleach in c:\\users\\daniel ehrens\\anaconda3\\lib\\site-packages (from nbconvert==5.6.1->jupyterlab_darkside_ui) (4.0.0)\n",
      "Requirement already satisfied: pandocfilters>=1.4.1 in c:\\users\\daniel ehrens\\anaconda3\\lib\\site-packages (from nbconvert==5.6.1->jupyterlab_darkside_ui) (1.4.3)\n",
      "Requirement already satisfied: pygments in c:\\users\\daniel ehrens\\anaconda3\\lib\\site-packages (from nbconvert==5.6.1->jupyterlab_darkside_ui) (2.10.0)\n",
      "Requirement already satisfied: MarkupSafe>=0.23 in c:\\users\\daniel ehrens\\anaconda3\\lib\\site-packages (from jinja2>=2.1->jupyterlab==3.*,>=3.0.0->jupyterlab_darkside_ui) (1.1.1)\n",
      "Requirement already satisfied: terminado>=0.8.3 in c:\\users\\daniel ehrens\\anaconda3\\lib\\site-packages (from jupyter-server~=1.4->jupyterlab==3.*,>=3.0.0->jupyterlab_darkside_ui) (0.9.4)\n",
      "Requirement already satisfied: jupyter-client>=6.1.1 in c:\\users\\daniel ehrens\\anaconda3\\lib\\site-packages (from jupyter-server~=1.4->jupyterlab==3.*,>=3.0.0->jupyterlab_darkside_ui) (6.1.12)\n",
      "Requirement already satisfied: prometheus-client in c:\\users\\daniel ehrens\\anaconda3\\lib\\site-packages (from jupyter-server~=1.4->jupyterlab==3.*,>=3.0.0->jupyterlab_darkside_ui) (0.11.0)\n",
      "Requirement already satisfied: anyio>=2.0.2 in c:\\users\\daniel ehrens\\anaconda3\\lib\\site-packages (from jupyter-server~=1.4->jupyterlab==3.*,>=3.0.0->jupyterlab_darkside_ui) (2.2.0)\n",
      "Requirement already satisfied: Send2Trash in c:\\users\\daniel ehrens\\anaconda3\\lib\\site-packages (from jupyter-server~=1.4->jupyterlab==3.*,>=3.0.0->jupyterlab_darkside_ui) (1.8.0)\n",
      "Requirement already satisfied: pywin32>=1.0 in c:\\users\\daniel ehrens\\anaconda3\\lib\\site-packages (from jupyter-server~=1.4->jupyterlab==3.*,>=3.0.0->jupyterlab_darkside_ui) (228)\n",
      "Requirement already satisfied: ipython-genutils in c:\\users\\daniel ehrens\\anaconda3\\lib\\site-packages (from jupyter-server~=1.4->jupyterlab==3.*,>=3.0.0->jupyterlab_darkside_ui) (0.2.0)\n",
      "Requirement already satisfied: pyzmq>=17 in c:\\users\\daniel ehrens\\anaconda3\\lib\\site-packages (from jupyter-server~=1.4->jupyterlab==3.*,>=3.0.0->jupyterlab_darkside_ui) (22.2.1)\n",
      "Requirement already satisfied: sniffio>=1.1 in c:\\users\\daniel ehrens\\anaconda3\\lib\\site-packages (from anyio>=2.0.2->jupyter-server~=1.4->jupyterlab==3.*,>=3.0.0->jupyterlab_darkside_ui) (1.2.0)\n",
      "Requirement already satisfied: idna>=2.8 in c:\\users\\daniel ehrens\\anaconda3\\lib\\site-packages (from anyio>=2.0.2->jupyter-server~=1.4->jupyterlab==3.*,>=3.0.0->jupyterlab_darkside_ui) (3.2)\n",
      "Requirement already satisfied: python-dateutil>=2.1 in c:\\users\\daniel ehrens\\anaconda3\\lib\\site-packages (from jupyter-client>=6.1.1->jupyter-server~=1.4->jupyterlab==3.*,>=3.0.0->jupyterlab_darkside_ui) (2.8.2)\n",
      "Requirement already satisfied: jsonschema>=3.0.1 in c:\\users\\daniel ehrens\\anaconda3\\lib\\site-packages (from jupyterlab-server~=2.3->jupyterlab==3.*,>=3.0.0->jupyterlab_darkside_ui) (3.2.0)\n",
      "Requirement already satisfied: babel in c:\\users\\daniel ehrens\\anaconda3\\lib\\site-packages (from jupyterlab-server~=2.3->jupyterlab==3.*,>=3.0.0->jupyterlab_darkside_ui) (2.9.1)\n",
      "Requirement already satisfied: requests in c:\\users\\daniel ehrens\\anaconda3\\lib\\site-packages (from jupyterlab-server~=2.3->jupyterlab==3.*,>=3.0.0->jupyterlab_darkside_ui) (2.26.0)\n",
      "Requirement already satisfied: json5 in c:\\users\\daniel ehrens\\anaconda3\\lib\\site-packages (from jupyterlab-server~=2.3->jupyterlab==3.*,>=3.0.0->jupyterlab_darkside_ui) (0.9.6)\n",
      "Requirement already satisfied: six>=1.11.0 in c:\\users\\daniel ehrens\\anaconda3\\lib\\site-packages (from jsonschema>=3.0.1->jupyterlab-server~=2.3->jupyterlab==3.*,>=3.0.0->jupyterlab_darkside_ui) (1.16.0)\n",
      "Requirement already satisfied: pyrsistent>=0.14.0 in c:\\users\\daniel ehrens\\anaconda3\\lib\\site-packages (from jsonschema>=3.0.1->jupyterlab-server~=2.3->jupyterlab==3.*,>=3.0.0->jupyterlab_darkside_ui) (0.18.0)\n",
      "Requirement already satisfied: attrs>=17.4.0 in c:\\users\\daniel ehrens\\anaconda3\\lib\\site-packages (from jsonschema>=3.0.1->jupyterlab-server~=2.3->jupyterlab==3.*,>=3.0.0->jupyterlab_darkside_ui) (21.2.0)\n",
      "Requirement already satisfied: setuptools in c:\\users\\daniel ehrens\\anaconda3\\lib\\site-packages (from jsonschema>=3.0.1->jupyterlab-server~=2.3->jupyterlab==3.*,>=3.0.0->jupyterlab_darkside_ui) (58.0.4)\n",
      "Requirement already satisfied: notebook<7 in c:\\users\\daniel ehrens\\anaconda3\\lib\\site-packages (from nbclassic~=0.2->jupyterlab==3.*,>=3.0.0->jupyterlab_darkside_ui) (6.4.5)\n",
      "Requirement already satisfied: argon2-cffi in c:\\users\\daniel ehrens\\anaconda3\\lib\\site-packages (from notebook<7->nbclassic~=0.2->jupyterlab==3.*,>=3.0.0->jupyterlab_darkside_ui) (20.1.0)\n",
      "Requirement already satisfied: ipykernel in c:\\users\\daniel ehrens\\anaconda3\\lib\\site-packages (from notebook<7->nbclassic~=0.2->jupyterlab==3.*,>=3.0.0->jupyterlab_darkside_ui) (6.4.1)\n",
      "Requirement already satisfied: pywinpty>=0.5 in c:\\users\\daniel ehrens\\anaconda3\\lib\\site-packages (from terminado>=0.8.3->jupyter-server~=1.4->jupyterlab==3.*,>=3.0.0->jupyterlab_darkside_ui) (0.5.7)\n",
      "Requirement already satisfied: cffi>=1.0.0 in c:\\users\\daniel ehrens\\anaconda3\\lib\\site-packages (from argon2-cffi->notebook<7->nbclassic~=0.2->jupyterlab==3.*,>=3.0.0->jupyterlab_darkside_ui) (1.14.6)\n",
      "Requirement already satisfied: pycparser in c:\\users\\daniel ehrens\\anaconda3\\lib\\site-packages (from cffi>=1.0.0->argon2-cffi->notebook<7->nbclassic~=0.2->jupyterlab==3.*,>=3.0.0->jupyterlab_darkside_ui) (2.20)\n",
      "Requirement already satisfied: pytz>=2015.7 in c:\\users\\daniel ehrens\\anaconda3\\lib\\site-packages (from babel->jupyterlab-server~=2.3->jupyterlab==3.*,>=3.0.0->jupyterlab_darkside_ui) (2021.3)\n",
      "Requirement already satisfied: webencodings in c:\\users\\daniel ehrens\\anaconda3\\lib\\site-packages (from bleach->nbconvert==5.6.1->jupyterlab_darkside_ui) (0.5.1)\n",
      "Requirement already satisfied: debugpy<2.0,>=1.0.0 in c:\\users\\daniel ehrens\\anaconda3\\lib\\site-packages (from ipykernel->notebook<7->nbclassic~=0.2->jupyterlab==3.*,>=3.0.0->jupyterlab_darkside_ui) (1.4.1)\n",
      "Requirement already satisfied: matplotlib-inline<0.2.0,>=0.1.0 in c:\\users\\daniel ehrens\\anaconda3\\lib\\site-packages (from ipykernel->notebook<7->nbclassic~=0.2->jupyterlab==3.*,>=3.0.0->jupyterlab_darkside_ui) (0.1.2)\n",
      "Requirement already satisfied: decorator in c:\\users\\daniel ehrens\\anaconda3\\lib\\site-packages (from ipython->jupyterlab==3.*,>=3.0.0->jupyterlab_darkside_ui) (5.1.0)\n",
      "Requirement already satisfied: prompt-toolkit!=3.0.0,!=3.0.1,<3.1.0,>=2.0.0 in c:\\users\\daniel ehrens\\anaconda3\\lib\\site-packages (from ipython->jupyterlab==3.*,>=3.0.0->jupyterlab_darkside_ui) (3.0.20)\n",
      "Requirement already satisfied: backcall in c:\\users\\daniel ehrens\\anaconda3\\lib\\site-packages (from ipython->jupyterlab==3.*,>=3.0.0->jupyterlab_darkside_ui) (0.2.0)\n",
      "Requirement already satisfied: colorama in c:\\users\\daniel ehrens\\anaconda3\\lib\\site-packages (from ipython->jupyterlab==3.*,>=3.0.0->jupyterlab_darkside_ui) (0.4.4)\n",
      "Requirement already satisfied: pickleshare in c:\\users\\daniel ehrens\\anaconda3\\lib\\site-packages (from ipython->jupyterlab==3.*,>=3.0.0->jupyterlab_darkside_ui) (0.7.5)\n",
      "Requirement already satisfied: wcwidth in c:\\users\\daniel ehrens\\anaconda3\\lib\\site-packages (from prompt-toolkit!=3.0.0,!=3.0.1,<3.1.0,>=2.0.0->ipython->jupyterlab==3.*,>=3.0.0->jupyterlab_darkside_ui) (0.2.5)\n",
      "Requirement already satisfied: pyparsing>=2.0.2 in c:\\users\\daniel ehrens\\anaconda3\\lib\\site-packages (from packaging->jupyterlab==3.*,>=3.0.0->jupyterlab_darkside_ui) (3.0.4)\n",
      "Requirement already satisfied: charset-normalizer~=2.0.0 in c:\\users\\daniel ehrens\\anaconda3\\lib\\site-packages (from requests->jupyterlab-server~=2.3->jupyterlab==3.*,>=3.0.0->jupyterlab_darkside_ui) (2.0.4)\n",
      "Requirement already satisfied: urllib3<1.27,>=1.21.1 in c:\\users\\daniel ehrens\\anaconda3\\lib\\site-packages (from requests->jupyterlab-server~=2.3->jupyterlab==3.*,>=3.0.0->jupyterlab_darkside_ui) (1.26.7)\n",
      "Requirement already satisfied: certifi>=2017.4.17 in c:\\users\\daniel ehrens\\anaconda3\\lib\\site-packages (from requests->jupyterlab-server~=2.3->jupyterlab==3.*,>=3.0.0->jupyterlab_darkside_ui) (2021.10.8)\n",
      "Installing collected packages: parso, jedi, nbconvert, jupyterlab-darkside-ui\n",
      "  Attempting uninstall: parso\n",
      "    Found existing installation: parso 0.8.2"
     ]
    },
    {
     "name": "stderr",
     "output_type": "stream",
     "text": [
      "ERROR: pip's dependency resolver does not currently take into account all the packages that are installed. This behaviour is the source of the following dependency conflicts.\n",
      "spyder 5.1.5 requires pyqt5<5.13, which is not installed.\n",
      "spyder 5.1.5 requires pyqtwebengine<5.13, which is not installed.\n"
     ]
    },
    {
     "name": "stdout",
     "output_type": "stream",
     "text": [
      "\n",
      "    Uninstalling parso-0.8.2:\n",
      "      Successfully uninstalled parso-0.8.2\n",
      "  Attempting uninstall: jedi\n",
      "    Found existing installation: jedi 0.18.0\n",
      "    Uninstalling jedi-0.18.0:\n",
      "      Successfully uninstalled jedi-0.18.0\n",
      "  Attempting uninstall: nbconvert\n",
      "    Found existing installation: nbconvert 6.1.0\n",
      "    Uninstalling nbconvert-6.1.0:\n",
      "      Successfully uninstalled nbconvert-6.1.0\n",
      "Successfully installed jedi-0.17.2 jupyterlab-darkside-ui-0.2.0 nbconvert-5.6.1 parso-0.7.1\n"
     ]
    }
   ],
   "source": [
    "!pip install jupyterlab_darkside_ui"
   ]
  },
  {
   "cell_type": "code",
   "execution_count": 6,
   "id": "2d034288",
   "metadata": {},
   "outputs": [
    {
     "data": {
      "text/plain": [
       "1"
      ]
     },
     "execution_count": 6,
     "metadata": {},
     "output_type": "execute_result"
    }
   ],
   "source": [
    "x=1\n",
    "x"
   ]
  },
  {
   "cell_type": "code",
   "execution_count": 4,
   "id": "a3d6afcb",
   "metadata": {},
   "outputs": [],
   "source": [
    "import time\n",
    "import string \n",
    "import random\n",
    "\n",
    "def randword(delay=1, length=10):\n",
    "    time.sleep(delay)\n",
    "    return ''.join(\n",
    "        random.choice(string.lowercase) \n",
    "        for i in range(length)\n",
    "    )\n"
   ]
  },
  {
   "cell_type": "code",
   "execution_count": 5,
   "id": "0c7e5874",
   "metadata": {},
   "outputs": [],
   "source": [
    "x=10"
   ]
  },
  {
   "cell_type": "code",
   "execution_count": 6,
   "id": "d4110a92",
   "metadata": {},
   "outputs": [
    {
     "data": {
      "text/plain": [
       "10"
      ]
     },
     "execution_count": 6,
     "metadata": {},
     "output_type": "execute_result"
    }
   ],
   "source": [
    "x\n"
   ]
  },
  {
   "cell_type": "code",
   "execution_count": null,
   "id": "99521306",
   "metadata": {},
   "outputs": [],
   "source": []
  }
 ],
 "metadata": {
  "kernelspec": {
   "display_name": "Python 3 (ipykernel)",
   "language": "python",
   "name": "python3"
  },
  "language_info": {
   "codemirror_mode": {
    "name": "ipython",
    "version": 3
   },
   "file_extension": ".py",
   "mimetype": "text/x-python",
   "name": "python",
   "nbconvert_exporter": "python",
   "pygments_lexer": "ipython3",
   "version": "3.9.7"
  }
 },
 "nbformat": 4,
 "nbformat_minor": 5
}
